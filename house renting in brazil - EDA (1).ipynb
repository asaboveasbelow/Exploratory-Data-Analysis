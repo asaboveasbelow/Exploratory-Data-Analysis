{
 "cells": [
  {
   "cell_type": "code",
   "execution_count": 1,
   "metadata": {},
   "outputs": [],
   "source": [
    "import pandas as pd\n",
    "import numpy as np\n",
    "import seaborn as sns\n",
    "import matplotlib.pyplot as plt"
   ]
  },
  {
   "cell_type": "code",
   "execution_count": 2,
   "metadata": {},
   "outputs": [],
   "source": [
    "df = pd.read_csv(r'C:\\Users\\Marek\\Downloads\\houses_to_rent.csv')"
   ]
  },
  {
   "cell_type": "code",
   "execution_count": 3,
   "metadata": {},
   "outputs": [
    {
     "data": {
      "text/html": [
       "<div>\n",
       "<style scoped>\n",
       "    .dataframe tbody tr th:only-of-type {\n",
       "        vertical-align: middle;\n",
       "    }\n",
       "\n",
       "    .dataframe tbody tr th {\n",
       "        vertical-align: top;\n",
       "    }\n",
       "\n",
       "    .dataframe thead th {\n",
       "        text-align: right;\n",
       "    }\n",
       "</style>\n",
       "<table border=\"1\" class=\"dataframe\">\n",
       "  <thead>\n",
       "    <tr style=\"text-align: right;\">\n",
       "      <th></th>\n",
       "      <th>Unnamed: 0</th>\n",
       "      <th>city</th>\n",
       "      <th>area</th>\n",
       "      <th>rooms</th>\n",
       "      <th>bathroom</th>\n",
       "      <th>parking spaces</th>\n",
       "      <th>floor</th>\n",
       "      <th>animal</th>\n",
       "      <th>furniture</th>\n",
       "      <th>hoa</th>\n",
       "      <th>rent amount</th>\n",
       "      <th>property tax</th>\n",
       "      <th>fire insurance</th>\n",
       "      <th>total</th>\n",
       "    </tr>\n",
       "  </thead>\n",
       "  <tbody>\n",
       "    <tr>\n",
       "      <th>0</th>\n",
       "      <td>0</td>\n",
       "      <td>1</td>\n",
       "      <td>240</td>\n",
       "      <td>3</td>\n",
       "      <td>3</td>\n",
       "      <td>4</td>\n",
       "      <td>-</td>\n",
       "      <td>acept</td>\n",
       "      <td>furnished</td>\n",
       "      <td>R$0</td>\n",
       "      <td>R$8,000</td>\n",
       "      <td>R$1,000</td>\n",
       "      <td>R$121</td>\n",
       "      <td>R$9,121</td>\n",
       "    </tr>\n",
       "    <tr>\n",
       "      <th>1</th>\n",
       "      <td>1</td>\n",
       "      <td>0</td>\n",
       "      <td>64</td>\n",
       "      <td>2</td>\n",
       "      <td>1</td>\n",
       "      <td>1</td>\n",
       "      <td>10</td>\n",
       "      <td>acept</td>\n",
       "      <td>not furnished</td>\n",
       "      <td>R$540</td>\n",
       "      <td>R$820</td>\n",
       "      <td>R$122</td>\n",
       "      <td>R$11</td>\n",
       "      <td>R$1,493</td>\n",
       "    </tr>\n",
       "    <tr>\n",
       "      <th>2</th>\n",
       "      <td>2</td>\n",
       "      <td>1</td>\n",
       "      <td>443</td>\n",
       "      <td>5</td>\n",
       "      <td>5</td>\n",
       "      <td>4</td>\n",
       "      <td>3</td>\n",
       "      <td>acept</td>\n",
       "      <td>furnished</td>\n",
       "      <td>R$4,172</td>\n",
       "      <td>R$7,000</td>\n",
       "      <td>R$1,417</td>\n",
       "      <td>R$89</td>\n",
       "      <td>R$12,680</td>\n",
       "    </tr>\n",
       "    <tr>\n",
       "      <th>3</th>\n",
       "      <td>3</td>\n",
       "      <td>1</td>\n",
       "      <td>73</td>\n",
       "      <td>2</td>\n",
       "      <td>2</td>\n",
       "      <td>1</td>\n",
       "      <td>12</td>\n",
       "      <td>acept</td>\n",
       "      <td>not furnished</td>\n",
       "      <td>R$700</td>\n",
       "      <td>R$1,250</td>\n",
       "      <td>R$150</td>\n",
       "      <td>R$16</td>\n",
       "      <td>R$2,116</td>\n",
       "    </tr>\n",
       "    <tr>\n",
       "      <th>4</th>\n",
       "      <td>4</td>\n",
       "      <td>1</td>\n",
       "      <td>19</td>\n",
       "      <td>1</td>\n",
       "      <td>1</td>\n",
       "      <td>0</td>\n",
       "      <td>-</td>\n",
       "      <td>not acept</td>\n",
       "      <td>not furnished</td>\n",
       "      <td>R$0</td>\n",
       "      <td>R$1,200</td>\n",
       "      <td>R$41</td>\n",
       "      <td>R$16</td>\n",
       "      <td>R$1,257</td>\n",
       "    </tr>\n",
       "    <tr>\n",
       "      <th>...</th>\n",
       "      <td>...</td>\n",
       "      <td>...</td>\n",
       "      <td>...</td>\n",
       "      <td>...</td>\n",
       "      <td>...</td>\n",
       "      <td>...</td>\n",
       "      <td>...</td>\n",
       "      <td>...</td>\n",
       "      <td>...</td>\n",
       "      <td>...</td>\n",
       "      <td>...</td>\n",
       "      <td>...</td>\n",
       "      <td>...</td>\n",
       "      <td>...</td>\n",
       "    </tr>\n",
       "    <tr>\n",
       "      <th>6075</th>\n",
       "      <td>6075</td>\n",
       "      <td>1</td>\n",
       "      <td>50</td>\n",
       "      <td>2</td>\n",
       "      <td>1</td>\n",
       "      <td>1</td>\n",
       "      <td>2</td>\n",
       "      <td>acept</td>\n",
       "      <td>not furnished</td>\n",
       "      <td>R$420</td>\n",
       "      <td>R$1,150</td>\n",
       "      <td>R$0</td>\n",
       "      <td>R$15</td>\n",
       "      <td>R$1,585</td>\n",
       "    </tr>\n",
       "    <tr>\n",
       "      <th>6076</th>\n",
       "      <td>6076</td>\n",
       "      <td>1</td>\n",
       "      <td>84</td>\n",
       "      <td>2</td>\n",
       "      <td>2</td>\n",
       "      <td>1</td>\n",
       "      <td>16</td>\n",
       "      <td>not acept</td>\n",
       "      <td>furnished</td>\n",
       "      <td>R$768</td>\n",
       "      <td>R$2,900</td>\n",
       "      <td>R$63</td>\n",
       "      <td>R$37</td>\n",
       "      <td>R$3,768</td>\n",
       "    </tr>\n",
       "    <tr>\n",
       "      <th>6077</th>\n",
       "      <td>6077</td>\n",
       "      <td>0</td>\n",
       "      <td>48</td>\n",
       "      <td>1</td>\n",
       "      <td>1</td>\n",
       "      <td>0</td>\n",
       "      <td>13</td>\n",
       "      <td>acept</td>\n",
       "      <td>not furnished</td>\n",
       "      <td>R$250</td>\n",
       "      <td>R$950</td>\n",
       "      <td>R$42</td>\n",
       "      <td>R$13</td>\n",
       "      <td>R$1,255</td>\n",
       "    </tr>\n",
       "    <tr>\n",
       "      <th>6078</th>\n",
       "      <td>6078</td>\n",
       "      <td>1</td>\n",
       "      <td>160</td>\n",
       "      <td>3</td>\n",
       "      <td>2</td>\n",
       "      <td>2</td>\n",
       "      <td>-</td>\n",
       "      <td>not acept</td>\n",
       "      <td>not furnished</td>\n",
       "      <td>R$0</td>\n",
       "      <td>R$3,500</td>\n",
       "      <td>R$250</td>\n",
       "      <td>R$53</td>\n",
       "      <td>R$3,803</td>\n",
       "    </tr>\n",
       "    <tr>\n",
       "      <th>6079</th>\n",
       "      <td>6079</td>\n",
       "      <td>1</td>\n",
       "      <td>60</td>\n",
       "      <td>2</td>\n",
       "      <td>1</td>\n",
       "      <td>1</td>\n",
       "      <td>4</td>\n",
       "      <td>acept</td>\n",
       "      <td>furnished</td>\n",
       "      <td>R$489</td>\n",
       "      <td>R$1,900</td>\n",
       "      <td>R$0</td>\n",
       "      <td>R$25</td>\n",
       "      <td>R$2,414</td>\n",
       "    </tr>\n",
       "  </tbody>\n",
       "</table>\n",
       "<p>6080 rows × 14 columns</p>\n",
       "</div>"
      ],
      "text/plain": [
       "      Unnamed: 0  city  area  rooms  bathroom  parking spaces floor  \\\n",
       "0              0     1   240      3         3               4     -   \n",
       "1              1     0    64      2         1               1    10   \n",
       "2              2     1   443      5         5               4     3   \n",
       "3              3     1    73      2         2               1    12   \n",
       "4              4     1    19      1         1               0     -   \n",
       "...          ...   ...   ...    ...       ...             ...   ...   \n",
       "6075        6075     1    50      2         1               1     2   \n",
       "6076        6076     1    84      2         2               1    16   \n",
       "6077        6077     0    48      1         1               0    13   \n",
       "6078        6078     1   160      3         2               2     -   \n",
       "6079        6079     1    60      2         1               1     4   \n",
       "\n",
       "         animal      furniture      hoa rent amount property tax  \\\n",
       "0         acept      furnished      R$0     R$8,000      R$1,000   \n",
       "1         acept  not furnished    R$540       R$820        R$122   \n",
       "2         acept      furnished  R$4,172     R$7,000      R$1,417   \n",
       "3         acept  not furnished    R$700     R$1,250        R$150   \n",
       "4     not acept  not furnished      R$0     R$1,200         R$41   \n",
       "...         ...            ...      ...         ...          ...   \n",
       "6075      acept  not furnished    R$420     R$1,150          R$0   \n",
       "6076  not acept      furnished    R$768     R$2,900         R$63   \n",
       "6077      acept  not furnished    R$250       R$950         R$42   \n",
       "6078  not acept  not furnished      R$0     R$3,500        R$250   \n",
       "6079      acept      furnished    R$489     R$1,900          R$0   \n",
       "\n",
       "     fire insurance     total  \n",
       "0             R$121   R$9,121  \n",
       "1              R$11   R$1,493  \n",
       "2              R$89  R$12,680  \n",
       "3              R$16   R$2,116  \n",
       "4              R$16   R$1,257  \n",
       "...             ...       ...  \n",
       "6075           R$15   R$1,585  \n",
       "6076           R$37   R$3,768  \n",
       "6077           R$13   R$1,255  \n",
       "6078           R$53   R$3,803  \n",
       "6079           R$25   R$2,414  \n",
       "\n",
       "[6080 rows x 14 columns]"
      ]
     },
     "execution_count": 3,
     "metadata": {},
     "output_type": "execute_result"
    }
   ],
   "source": [
    "df"
   ]
  },
  {
   "cell_type": "code",
   "execution_count": 4,
   "metadata": {},
   "outputs": [],
   "source": [
    "df = df.drop(['Unnamed: 0'], axis=1)"
   ]
  },
  {
   "cell_type": "code",
   "execution_count": 5,
   "metadata": {},
   "outputs": [
    {
     "data": {
      "text/plain": [
       "(6080, 13)"
      ]
     },
     "execution_count": 5,
     "metadata": {},
     "output_type": "execute_result"
    }
   ],
   "source": [
    "df.shape"
   ]
  },
  {
   "cell_type": "code",
   "execution_count": 6,
   "metadata": {},
   "outputs": [],
   "source": [
    "df.drop_duplicates(inplace=True)"
   ]
  },
  {
   "cell_type": "code",
   "execution_count": 7,
   "metadata": {},
   "outputs": [
    {
     "data": {
      "text/plain": [
       "(5882, 13)"
      ]
     },
     "execution_count": 7,
     "metadata": {},
     "output_type": "execute_result"
    }
   ],
   "source": [
    "df.shape"
   ]
  },
  {
   "cell_type": "code",
   "execution_count": 8,
   "metadata": {},
   "outputs": [
    {
     "data": {
      "text/plain": [
       "city              0\n",
       "area              0\n",
       "rooms             0\n",
       "bathroom          0\n",
       "parking spaces    0\n",
       "floor             0\n",
       "animal            0\n",
       "furniture         0\n",
       "hoa               0\n",
       "rent amount       0\n",
       "property tax      0\n",
       "fire insurance    0\n",
       "total             0\n",
       "dtype: int64"
      ]
     },
     "execution_count": 8,
     "metadata": {},
     "output_type": "execute_result"
    }
   ],
   "source": [
    "df.isnull().sum()"
   ]
  },
  {
   "cell_type": "code",
   "execution_count": 9,
   "metadata": {},
   "outputs": [
    {
     "data": {
      "text/plain": [
       "city                 2\n",
       "area               435\n",
       "rooms                9\n",
       "bathroom            10\n",
       "parking spaces      10\n",
       "floor               37\n",
       "animal               2\n",
       "furniture            2\n",
       "hoa               1292\n",
       "rent amount       1032\n",
       "property tax      1036\n",
       "fire insurance     190\n",
       "total             4069\n",
       "dtype: int64"
      ]
     },
     "execution_count": 9,
     "metadata": {},
     "output_type": "execute_result"
    }
   ],
   "source": [
    "df.nunique()"
   ]
  },
  {
   "cell_type": "code",
   "execution_count": 10,
   "metadata": {},
   "outputs": [
    {
     "data": {
      "text/html": [
       "<div>\n",
       "<style scoped>\n",
       "    .dataframe tbody tr th:only-of-type {\n",
       "        vertical-align: middle;\n",
       "    }\n",
       "\n",
       "    .dataframe tbody tr th {\n",
       "        vertical-align: top;\n",
       "    }\n",
       "\n",
       "    .dataframe thead th {\n",
       "        text-align: right;\n",
       "    }\n",
       "</style>\n",
       "<table border=\"1\" class=\"dataframe\">\n",
       "  <thead>\n",
       "    <tr style=\"text-align: right;\">\n",
       "      <th></th>\n",
       "      <th>city</th>\n",
       "      <th>area</th>\n",
       "      <th>rooms</th>\n",
       "      <th>bathroom</th>\n",
       "      <th>parking spaces</th>\n",
       "    </tr>\n",
       "  </thead>\n",
       "  <tbody>\n",
       "    <tr>\n",
       "      <th>count</th>\n",
       "      <td>5882.000000</td>\n",
       "      <td>5882.000000</td>\n",
       "      <td>5882.000000</td>\n",
       "      <td>5882.000000</td>\n",
       "      <td>5882.000000</td>\n",
       "    </tr>\n",
       "    <tr>\n",
       "      <th>mean</th>\n",
       "      <td>0.865352</td>\n",
       "      <td>154.494390</td>\n",
       "      <td>2.528052</td>\n",
       "      <td>2.377763</td>\n",
       "      <td>1.799728</td>\n",
       "    </tr>\n",
       "    <tr>\n",
       "      <th>std</th>\n",
       "      <td>0.341376</td>\n",
       "      <td>381.295055</td>\n",
       "      <td>1.124299</td>\n",
       "      <td>1.443171</td>\n",
       "      <td>1.615585</td>\n",
       "    </tr>\n",
       "    <tr>\n",
       "      <th>min</th>\n",
       "      <td>0.000000</td>\n",
       "      <td>10.000000</td>\n",
       "      <td>1.000000</td>\n",
       "      <td>1.000000</td>\n",
       "      <td>0.000000</td>\n",
       "    </tr>\n",
       "    <tr>\n",
       "      <th>25%</th>\n",
       "      <td>1.000000</td>\n",
       "      <td>60.000000</td>\n",
       "      <td>2.000000</td>\n",
       "      <td>1.000000</td>\n",
       "      <td>1.000000</td>\n",
       "    </tr>\n",
       "    <tr>\n",
       "      <th>50%</th>\n",
       "      <td>1.000000</td>\n",
       "      <td>100.000000</td>\n",
       "      <td>3.000000</td>\n",
       "      <td>2.000000</td>\n",
       "      <td>1.000000</td>\n",
       "    </tr>\n",
       "    <tr>\n",
       "      <th>75%</th>\n",
       "      <td>1.000000</td>\n",
       "      <td>200.000000</td>\n",
       "      <td>3.000000</td>\n",
       "      <td>3.000000</td>\n",
       "      <td>3.000000</td>\n",
       "    </tr>\n",
       "    <tr>\n",
       "      <th>max</th>\n",
       "      <td>1.000000</td>\n",
       "      <td>24606.000000</td>\n",
       "      <td>10.000000</td>\n",
       "      <td>10.000000</td>\n",
       "      <td>12.000000</td>\n",
       "    </tr>\n",
       "  </tbody>\n",
       "</table>\n",
       "</div>"
      ],
      "text/plain": [
       "              city          area        rooms     bathroom  parking spaces\n",
       "count  5882.000000   5882.000000  5882.000000  5882.000000     5882.000000\n",
       "mean      0.865352    154.494390     2.528052     2.377763        1.799728\n",
       "std       0.341376    381.295055     1.124299     1.443171        1.615585\n",
       "min       0.000000     10.000000     1.000000     1.000000        0.000000\n",
       "25%       1.000000     60.000000     2.000000     1.000000        1.000000\n",
       "50%       1.000000    100.000000     3.000000     2.000000        1.000000\n",
       "75%       1.000000    200.000000     3.000000     3.000000        3.000000\n",
       "max       1.000000  24606.000000    10.000000    10.000000       12.000000"
      ]
     },
     "execution_count": 10,
     "metadata": {},
     "output_type": "execute_result"
    }
   ],
   "source": [
    "df.describe()"
   ]
  },
  {
   "cell_type": "code",
   "execution_count": 11,
   "metadata": {},
   "outputs": [
    {
     "name": "stdout",
     "output_type": "stream",
     "text": [
      "<class 'pandas.core.frame.DataFrame'>\n",
      "Int64Index: 5882 entries, 0 to 6079\n",
      "Data columns (total 13 columns):\n",
      " #   Column          Non-Null Count  Dtype \n",
      "---  ------          --------------  ----- \n",
      " 0   city            5882 non-null   int64 \n",
      " 1   area            5882 non-null   int64 \n",
      " 2   rooms           5882 non-null   int64 \n",
      " 3   bathroom        5882 non-null   int64 \n",
      " 4   parking spaces  5882 non-null   int64 \n",
      " 5   floor           5882 non-null   object\n",
      " 6   animal          5882 non-null   object\n",
      " 7   furniture       5882 non-null   object\n",
      " 8   hoa             5882 non-null   object\n",
      " 9   rent amount     5882 non-null   object\n",
      " 10  property tax    5882 non-null   object\n",
      " 11  fire insurance  5882 non-null   object\n",
      " 12  total           5882 non-null   object\n",
      "dtypes: int64(5), object(8)\n",
      "memory usage: 459.5+ KB\n"
     ]
    }
   ],
   "source": [
    "df.info()"
   ]
  },
  {
   "cell_type": "code",
   "execution_count": 12,
   "metadata": {},
   "outputs": [
    {
     "data": {
      "text/plain": [
       "-     1497\n",
       "1      536\n",
       "3      384\n",
       "2      369\n",
       "4      306\n",
       "5      302\n",
       "6      295\n",
       "8      288\n",
       "7      284\n",
       "9      222\n",
       "10     209\n",
       "11     191\n",
       "12     175\n",
       "13     142\n",
       "14     140\n",
       "15     107\n",
       "16      88\n",
       "17      72\n",
       "18      69\n",
       "19      47\n",
       "20      35\n",
       "21      30\n",
       "22      21\n",
       "23      18\n",
       "25      14\n",
       "24      11\n",
       "27       7\n",
       "28       6\n",
       "26       6\n",
       "29       4\n",
       "99       1\n",
       "32       1\n",
       "68       1\n",
       "85       1\n",
       "31       1\n",
       "35       1\n",
       "51       1\n",
       "Name: floor, dtype: int64"
      ]
     },
     "execution_count": 12,
     "metadata": {},
     "output_type": "execute_result"
    }
   ],
   "source": [
    "df['floor'].value_counts()"
   ]
  },
  {
   "cell_type": "code",
   "execution_count": 13,
   "metadata": {},
   "outputs": [],
   "source": [
    "df['floor'] = df['floor'].replace('-',np.nan)\n",
    "df['floor']= df['floor'].fillna(df['floor'].median()).astype('int')"
   ]
  },
  {
   "cell_type": "code",
   "execution_count": 14,
   "metadata": {},
   "outputs": [
    {
     "name": "stdout",
     "output_type": "stream",
     "text": [
      "<class 'pandas.core.frame.DataFrame'>\n",
      "Int64Index: 5882 entries, 0 to 6079\n",
      "Data columns (total 13 columns):\n",
      " #   Column          Non-Null Count  Dtype \n",
      "---  ------          --------------  ----- \n",
      " 0   city            5882 non-null   int64 \n",
      " 1   area            5882 non-null   int64 \n",
      " 2   rooms           5882 non-null   int64 \n",
      " 3   bathroom        5882 non-null   int64 \n",
      " 4   parking spaces  5882 non-null   int64 \n",
      " 5   floor           5882 non-null   int32 \n",
      " 6   animal          5882 non-null   object\n",
      " 7   furniture       5882 non-null   object\n",
      " 8   hoa             5882 non-null   object\n",
      " 9   rent amount     5882 non-null   object\n",
      " 10  property tax    5882 non-null   object\n",
      " 11  fire insurance  5882 non-null   object\n",
      " 12  total           5882 non-null   object\n",
      "dtypes: int32(1), int64(5), object(7)\n",
      "memory usage: 459.5+ KB\n"
     ]
    }
   ],
   "source": [
    "df.info()"
   ]
  },
  {
   "cell_type": "code",
   "execution_count": 15,
   "metadata": {},
   "outputs": [
    {
     "data": {
      "text/plain": [
       "acept        4535\n",
       "not acept    1347\n",
       "Name: animal, dtype: int64"
      ]
     },
     "execution_count": 15,
     "metadata": {},
     "output_type": "execute_result"
    }
   ],
   "source": [
    "df['animal'].value_counts()"
   ]
  },
  {
   "cell_type": "code",
   "execution_count": 16,
   "metadata": {},
   "outputs": [
    {
     "data": {
      "text/plain": [
       "not furnished    4349\n",
       "furnished        1533\n",
       "Name: furniture, dtype: int64"
      ]
     },
     "execution_count": 16,
     "metadata": {},
     "output_type": "execute_result"
    }
   ],
   "source": [
    "df['furniture'].value_counts()"
   ]
  },
  {
   "cell_type": "code",
   "execution_count": 17,
   "metadata": {},
   "outputs": [],
   "source": [
    "import re\n",
    "df['total'] = df['total'].map(lambda x: re.sub(r'\\D+', '', x))\n",
    "df['hoa'] = df['hoa'].map(lambda x: re.sub(r'\\D+', '', x))\n",
    "df['rent amount'] = df['rent amount'].map(lambda x: re.sub(r'\\D+', '', x))\n",
    "df['fire insurance'] = df['fire insurance'].map(lambda x: re.sub(r'\\D+', '', x))\n",
    "df['property tax'] = df['property tax'].map(lambda x: re.sub(r'\\D+', '', x))"
   ]
  },
  {
   "cell_type": "code",
   "execution_count": 18,
   "metadata": {},
   "outputs": [],
   "source": [
    "df_new = df.copy()"
   ]
  },
  {
   "cell_type": "code",
   "execution_count": 19,
   "metadata": {},
   "outputs": [
    {
     "data": {
      "text/html": [
       "<div>\n",
       "<style scoped>\n",
       "    .dataframe tbody tr th:only-of-type {\n",
       "        vertical-align: middle;\n",
       "    }\n",
       "\n",
       "    .dataframe tbody tr th {\n",
       "        vertical-align: top;\n",
       "    }\n",
       "\n",
       "    .dataframe thead th {\n",
       "        text-align: right;\n",
       "    }\n",
       "</style>\n",
       "<table border=\"1\" class=\"dataframe\">\n",
       "  <thead>\n",
       "    <tr style=\"text-align: right;\">\n",
       "      <th></th>\n",
       "      <th>city</th>\n",
       "      <th>area</th>\n",
       "      <th>rooms</th>\n",
       "      <th>bathroom</th>\n",
       "      <th>parking spaces</th>\n",
       "      <th>floor</th>\n",
       "      <th>animal</th>\n",
       "      <th>furniture</th>\n",
       "      <th>hoa</th>\n",
       "      <th>rent amount</th>\n",
       "      <th>property tax</th>\n",
       "      <th>fire insurance</th>\n",
       "      <th>total</th>\n",
       "    </tr>\n",
       "  </thead>\n",
       "  <tbody>\n",
       "    <tr>\n",
       "      <th>0</th>\n",
       "      <td>1</td>\n",
       "      <td>240</td>\n",
       "      <td>3</td>\n",
       "      <td>3</td>\n",
       "      <td>4</td>\n",
       "      <td>7</td>\n",
       "      <td>acept</td>\n",
       "      <td>furnished</td>\n",
       "      <td>0</td>\n",
       "      <td>8000</td>\n",
       "      <td>1000</td>\n",
       "      <td>121</td>\n",
       "      <td>9121</td>\n",
       "    </tr>\n",
       "    <tr>\n",
       "      <th>1</th>\n",
       "      <td>0</td>\n",
       "      <td>64</td>\n",
       "      <td>2</td>\n",
       "      <td>1</td>\n",
       "      <td>1</td>\n",
       "      <td>10</td>\n",
       "      <td>acept</td>\n",
       "      <td>not furnished</td>\n",
       "      <td>540</td>\n",
       "      <td>820</td>\n",
       "      <td>122</td>\n",
       "      <td>11</td>\n",
       "      <td>1493</td>\n",
       "    </tr>\n",
       "    <tr>\n",
       "      <th>2</th>\n",
       "      <td>1</td>\n",
       "      <td>443</td>\n",
       "      <td>5</td>\n",
       "      <td>5</td>\n",
       "      <td>4</td>\n",
       "      <td>3</td>\n",
       "      <td>acept</td>\n",
       "      <td>furnished</td>\n",
       "      <td>4172</td>\n",
       "      <td>7000</td>\n",
       "      <td>1417</td>\n",
       "      <td>89</td>\n",
       "      <td>12680</td>\n",
       "    </tr>\n",
       "    <tr>\n",
       "      <th>3</th>\n",
       "      <td>1</td>\n",
       "      <td>73</td>\n",
       "      <td>2</td>\n",
       "      <td>2</td>\n",
       "      <td>1</td>\n",
       "      <td>12</td>\n",
       "      <td>acept</td>\n",
       "      <td>not furnished</td>\n",
       "      <td>700</td>\n",
       "      <td>1250</td>\n",
       "      <td>150</td>\n",
       "      <td>16</td>\n",
       "      <td>2116</td>\n",
       "    </tr>\n",
       "    <tr>\n",
       "      <th>4</th>\n",
       "      <td>1</td>\n",
       "      <td>19</td>\n",
       "      <td>1</td>\n",
       "      <td>1</td>\n",
       "      <td>0</td>\n",
       "      <td>7</td>\n",
       "      <td>not acept</td>\n",
       "      <td>not furnished</td>\n",
       "      <td>0</td>\n",
       "      <td>1200</td>\n",
       "      <td>41</td>\n",
       "      <td>16</td>\n",
       "      <td>1257</td>\n",
       "    </tr>\n",
       "  </tbody>\n",
       "</table>\n",
       "</div>"
      ],
      "text/plain": [
       "   city  area  rooms  bathroom  parking spaces  floor     animal  \\\n",
       "0     1   240      3         3               4      7      acept   \n",
       "1     0    64      2         1               1     10      acept   \n",
       "2     1   443      5         5               4      3      acept   \n",
       "3     1    73      2         2               1     12      acept   \n",
       "4     1    19      1         1               0      7  not acept   \n",
       "\n",
       "       furniture   hoa rent amount property tax fire insurance  total  \n",
       "0      furnished     0        8000         1000            121   9121  \n",
       "1  not furnished   540         820          122             11   1493  \n",
       "2      furnished  4172        7000         1417             89  12680  \n",
       "3  not furnished   700        1250          150             16   2116  \n",
       "4  not furnished     0        1200           41             16   1257  "
      ]
     },
     "execution_count": 19,
     "metadata": {},
     "output_type": "execute_result"
    }
   ],
   "source": [
    "df_new.head()"
   ]
  },
  {
   "cell_type": "code",
   "execution_count": 20,
   "metadata": {},
   "outputs": [],
   "source": [
    "df_new['animal'] = df_new['animal'].map({'acept':'Yes','not acept':'No'})"
   ]
  },
  {
   "cell_type": "code",
   "execution_count": 21,
   "metadata": {},
   "outputs": [],
   "source": [
    "df_new['furniture'] = df_new['furniture'].map({'not furnished':'No','furnished':'Yes'})"
   ]
  },
  {
   "cell_type": "code",
   "execution_count": 22,
   "metadata": {},
   "outputs": [
    {
     "data": {
      "text/html": [
       "<div>\n",
       "<style scoped>\n",
       "    .dataframe tbody tr th:only-of-type {\n",
       "        vertical-align: middle;\n",
       "    }\n",
       "\n",
       "    .dataframe tbody tr th {\n",
       "        vertical-align: top;\n",
       "    }\n",
       "\n",
       "    .dataframe thead th {\n",
       "        text-align: right;\n",
       "    }\n",
       "</style>\n",
       "<table border=\"1\" class=\"dataframe\">\n",
       "  <thead>\n",
       "    <tr style=\"text-align: right;\">\n",
       "      <th></th>\n",
       "      <th>city</th>\n",
       "      <th>area</th>\n",
       "      <th>rooms</th>\n",
       "      <th>bathroom</th>\n",
       "      <th>parking spaces</th>\n",
       "      <th>floor</th>\n",
       "      <th>animal</th>\n",
       "      <th>furniture</th>\n",
       "      <th>hoa</th>\n",
       "      <th>rent amount</th>\n",
       "      <th>property tax</th>\n",
       "      <th>fire insurance</th>\n",
       "      <th>total</th>\n",
       "    </tr>\n",
       "  </thead>\n",
       "  <tbody>\n",
       "    <tr>\n",
       "      <th>0</th>\n",
       "      <td>1</td>\n",
       "      <td>240</td>\n",
       "      <td>3</td>\n",
       "      <td>3</td>\n",
       "      <td>4</td>\n",
       "      <td>7</td>\n",
       "      <td>Yes</td>\n",
       "      <td>Yes</td>\n",
       "      <td>0</td>\n",
       "      <td>8000</td>\n",
       "      <td>1000</td>\n",
       "      <td>121</td>\n",
       "      <td>9121</td>\n",
       "    </tr>\n",
       "    <tr>\n",
       "      <th>1</th>\n",
       "      <td>0</td>\n",
       "      <td>64</td>\n",
       "      <td>2</td>\n",
       "      <td>1</td>\n",
       "      <td>1</td>\n",
       "      <td>10</td>\n",
       "      <td>Yes</td>\n",
       "      <td>No</td>\n",
       "      <td>540</td>\n",
       "      <td>820</td>\n",
       "      <td>122</td>\n",
       "      <td>11</td>\n",
       "      <td>1493</td>\n",
       "    </tr>\n",
       "    <tr>\n",
       "      <th>2</th>\n",
       "      <td>1</td>\n",
       "      <td>443</td>\n",
       "      <td>5</td>\n",
       "      <td>5</td>\n",
       "      <td>4</td>\n",
       "      <td>3</td>\n",
       "      <td>Yes</td>\n",
       "      <td>Yes</td>\n",
       "      <td>4172</td>\n",
       "      <td>7000</td>\n",
       "      <td>1417</td>\n",
       "      <td>89</td>\n",
       "      <td>12680</td>\n",
       "    </tr>\n",
       "    <tr>\n",
       "      <th>3</th>\n",
       "      <td>1</td>\n",
       "      <td>73</td>\n",
       "      <td>2</td>\n",
       "      <td>2</td>\n",
       "      <td>1</td>\n",
       "      <td>12</td>\n",
       "      <td>Yes</td>\n",
       "      <td>No</td>\n",
       "      <td>700</td>\n",
       "      <td>1250</td>\n",
       "      <td>150</td>\n",
       "      <td>16</td>\n",
       "      <td>2116</td>\n",
       "    </tr>\n",
       "    <tr>\n",
       "      <th>4</th>\n",
       "      <td>1</td>\n",
       "      <td>19</td>\n",
       "      <td>1</td>\n",
       "      <td>1</td>\n",
       "      <td>0</td>\n",
       "      <td>7</td>\n",
       "      <td>No</td>\n",
       "      <td>No</td>\n",
       "      <td>0</td>\n",
       "      <td>1200</td>\n",
       "      <td>41</td>\n",
       "      <td>16</td>\n",
       "      <td>1257</td>\n",
       "    </tr>\n",
       "  </tbody>\n",
       "</table>\n",
       "</div>"
      ],
      "text/plain": [
       "   city  area  rooms  bathroom  parking spaces  floor animal furniture   hoa  \\\n",
       "0     1   240      3         3               4      7    Yes       Yes     0   \n",
       "1     0    64      2         1               1     10    Yes        No   540   \n",
       "2     1   443      5         5               4      3    Yes       Yes  4172   \n",
       "3     1    73      2         2               1     12    Yes        No   700   \n",
       "4     1    19      1         1               0      7     No        No     0   \n",
       "\n",
       "  rent amount property tax fire insurance  total  \n",
       "0        8000         1000            121   9121  \n",
       "1         820          122             11   1493  \n",
       "2        7000         1417             89  12680  \n",
       "3        1250          150             16   2116  \n",
       "4        1200           41             16   1257  "
      ]
     },
     "execution_count": 22,
     "metadata": {},
     "output_type": "execute_result"
    }
   ],
   "source": [
    "df_new.head()"
   ]
  },
  {
   "cell_type": "code",
   "execution_count": 23,
   "metadata": {},
   "outputs": [],
   "source": [
    "from sklearn.preprocessing import LabelEncoder"
   ]
  },
  {
   "cell_type": "code",
   "execution_count": 24,
   "metadata": {},
   "outputs": [],
   "source": [
    "la = LabelEncoder()\n",
    "df_new['animal'] = la.fit_transform(df['animal'])\n",
    "df_new['furniture'] =la.fit_transform(df['furniture'])"
   ]
  },
  {
   "cell_type": "code",
   "execution_count": 25,
   "metadata": {},
   "outputs": [
    {
     "data": {
      "text/html": [
       "<div>\n",
       "<style scoped>\n",
       "    .dataframe tbody tr th:only-of-type {\n",
       "        vertical-align: middle;\n",
       "    }\n",
       "\n",
       "    .dataframe tbody tr th {\n",
       "        vertical-align: top;\n",
       "    }\n",
       "\n",
       "    .dataframe thead th {\n",
       "        text-align: right;\n",
       "    }\n",
       "</style>\n",
       "<table border=\"1\" class=\"dataframe\">\n",
       "  <thead>\n",
       "    <tr style=\"text-align: right;\">\n",
       "      <th></th>\n",
       "      <th>city</th>\n",
       "      <th>area</th>\n",
       "      <th>rooms</th>\n",
       "      <th>bathroom</th>\n",
       "      <th>parking spaces</th>\n",
       "      <th>floor</th>\n",
       "      <th>animal</th>\n",
       "      <th>furniture</th>\n",
       "    </tr>\n",
       "  </thead>\n",
       "  <tbody>\n",
       "    <tr>\n",
       "      <th>count</th>\n",
       "      <td>5882.000000</td>\n",
       "      <td>5882.000000</td>\n",
       "      <td>5882.000000</td>\n",
       "      <td>5882.000000</td>\n",
       "      <td>5882.000000</td>\n",
       "      <td>5882.000000</td>\n",
       "      <td>5882.000000</td>\n",
       "      <td>5882.000000</td>\n",
       "    </tr>\n",
       "    <tr>\n",
       "      <th>mean</th>\n",
       "      <td>0.865352</td>\n",
       "      <td>154.494390</td>\n",
       "      <td>2.528052</td>\n",
       "      <td>2.377763</td>\n",
       "      <td>1.799728</td>\n",
       "      <td>7.483509</td>\n",
       "      <td>0.229004</td>\n",
       "      <td>0.739374</td>\n",
       "    </tr>\n",
       "    <tr>\n",
       "      <th>std</th>\n",
       "      <td>0.341376</td>\n",
       "      <td>381.295055</td>\n",
       "      <td>1.124299</td>\n",
       "      <td>1.443171</td>\n",
       "      <td>1.615585</td>\n",
       "      <td>5.164871</td>\n",
       "      <td>0.420227</td>\n",
       "      <td>0.439013</td>\n",
       "    </tr>\n",
       "    <tr>\n",
       "      <th>min</th>\n",
       "      <td>0.000000</td>\n",
       "      <td>10.000000</td>\n",
       "      <td>1.000000</td>\n",
       "      <td>1.000000</td>\n",
       "      <td>0.000000</td>\n",
       "      <td>1.000000</td>\n",
       "      <td>0.000000</td>\n",
       "      <td>0.000000</td>\n",
       "    </tr>\n",
       "    <tr>\n",
       "      <th>25%</th>\n",
       "      <td>1.000000</td>\n",
       "      <td>60.000000</td>\n",
       "      <td>2.000000</td>\n",
       "      <td>1.000000</td>\n",
       "      <td>1.000000</td>\n",
       "      <td>4.000000</td>\n",
       "      <td>0.000000</td>\n",
       "      <td>0.000000</td>\n",
       "    </tr>\n",
       "    <tr>\n",
       "      <th>50%</th>\n",
       "      <td>1.000000</td>\n",
       "      <td>100.000000</td>\n",
       "      <td>3.000000</td>\n",
       "      <td>2.000000</td>\n",
       "      <td>1.000000</td>\n",
       "      <td>7.000000</td>\n",
       "      <td>0.000000</td>\n",
       "      <td>1.000000</td>\n",
       "    </tr>\n",
       "    <tr>\n",
       "      <th>75%</th>\n",
       "      <td>1.000000</td>\n",
       "      <td>200.000000</td>\n",
       "      <td>3.000000</td>\n",
       "      <td>3.000000</td>\n",
       "      <td>3.000000</td>\n",
       "      <td>9.000000</td>\n",
       "      <td>0.000000</td>\n",
       "      <td>1.000000</td>\n",
       "    </tr>\n",
       "    <tr>\n",
       "      <th>max</th>\n",
       "      <td>1.000000</td>\n",
       "      <td>24606.000000</td>\n",
       "      <td>10.000000</td>\n",
       "      <td>10.000000</td>\n",
       "      <td>12.000000</td>\n",
       "      <td>99.000000</td>\n",
       "      <td>1.000000</td>\n",
       "      <td>1.000000</td>\n",
       "    </tr>\n",
       "  </tbody>\n",
       "</table>\n",
       "</div>"
      ],
      "text/plain": [
       "              city          area        rooms     bathroom  parking spaces  \\\n",
       "count  5882.000000   5882.000000  5882.000000  5882.000000     5882.000000   \n",
       "mean      0.865352    154.494390     2.528052     2.377763        1.799728   \n",
       "std       0.341376    381.295055     1.124299     1.443171        1.615585   \n",
       "min       0.000000     10.000000     1.000000     1.000000        0.000000   \n",
       "25%       1.000000     60.000000     2.000000     1.000000        1.000000   \n",
       "50%       1.000000    100.000000     3.000000     2.000000        1.000000   \n",
       "75%       1.000000    200.000000     3.000000     3.000000        3.000000   \n",
       "max       1.000000  24606.000000    10.000000    10.000000       12.000000   \n",
       "\n",
       "             floor       animal    furniture  \n",
       "count  5882.000000  5882.000000  5882.000000  \n",
       "mean      7.483509     0.229004     0.739374  \n",
       "std       5.164871     0.420227     0.439013  \n",
       "min       1.000000     0.000000     0.000000  \n",
       "25%       4.000000     0.000000     0.000000  \n",
       "50%       7.000000     0.000000     1.000000  \n",
       "75%       9.000000     0.000000     1.000000  \n",
       "max      99.000000     1.000000     1.000000  "
      ]
     },
     "execution_count": 25,
     "metadata": {},
     "output_type": "execute_result"
    }
   ],
   "source": [
    "df_new.describe()"
   ]
  },
  {
   "cell_type": "code",
   "execution_count": 26,
   "metadata": {},
   "outputs": [
    {
     "name": "stdout",
     "output_type": "stream",
     "text": [
      "<class 'pandas.core.frame.DataFrame'>\n",
      "Int64Index: 5882 entries, 0 to 6079\n",
      "Data columns (total 13 columns):\n",
      " #   Column          Non-Null Count  Dtype \n",
      "---  ------          --------------  ----- \n",
      " 0   city            5882 non-null   int64 \n",
      " 1   area            5882 non-null   int64 \n",
      " 2   rooms           5882 non-null   int64 \n",
      " 3   bathroom        5882 non-null   int64 \n",
      " 4   parking spaces  5882 non-null   int64 \n",
      " 5   floor           5882 non-null   int32 \n",
      " 6   animal          5882 non-null   int32 \n",
      " 7   furniture       5882 non-null   int32 \n",
      " 8   hoa             5882 non-null   object\n",
      " 9   rent amount     5882 non-null   object\n",
      " 10  property tax    5882 non-null   object\n",
      " 11  fire insurance  5882 non-null   object\n",
      " 12  total           5882 non-null   object\n",
      "dtypes: int32(3), int64(5), object(5)\n",
      "memory usage: 459.5+ KB\n"
     ]
    }
   ],
   "source": [
    "df_new.info()"
   ]
  },
  {
   "cell_type": "code",
   "execution_count": 27,
   "metadata": {},
   "outputs": [],
   "source": [
    "df_new['hoa'] = pd.to_numeric(df_new['hoa'])\n",
    "df_new['rent amount'] = pd.to_numeric(df_new['rent amount'])\n",
    "df_new['property tax'] = pd.to_numeric(df_new['property tax'])\n",
    "df_new['fire insurance'] = pd.to_numeric(df_new['fire insurance'])\n",
    "df_new['total'] = pd.to_numeric(df_new['total'])\n",
    "\n",
    "#pd.to_numeric(s, errors='coerce')\n",
    "#df[\"total\"] = pd.to_numeric(df[\"total\"].apply(remove_dollor), errors= \"ignore\")"
   ]
  },
  {
   "cell_type": "code",
   "execution_count": 28,
   "metadata": {},
   "outputs": [
    {
     "name": "stdout",
     "output_type": "stream",
     "text": [
      "<class 'pandas.core.frame.DataFrame'>\n",
      "Int64Index: 5882 entries, 0 to 6079\n",
      "Data columns (total 13 columns):\n",
      " #   Column          Non-Null Count  Dtype  \n",
      "---  ------          --------------  -----  \n",
      " 0   city            5882 non-null   int64  \n",
      " 1   area            5882 non-null   int64  \n",
      " 2   rooms           5882 non-null   int64  \n",
      " 3   bathroom        5882 non-null   int64  \n",
      " 4   parking spaces  5882 non-null   int64  \n",
      " 5   floor           5882 non-null   int32  \n",
      " 6   animal          5882 non-null   int32  \n",
      " 7   furniture       5882 non-null   int32  \n",
      " 8   hoa             5686 non-null   float64\n",
      " 9   rent amount     5882 non-null   int64  \n",
      " 10  property tax    5855 non-null   float64\n",
      " 11  fire insurance  5882 non-null   int64  \n",
      " 12  total           5882 non-null   int64  \n",
      "dtypes: float64(2), int32(3), int64(8)\n",
      "memory usage: 574.4 KB\n"
     ]
    }
   ],
   "source": [
    "df_new.info()"
   ]
  },
  {
   "cell_type": "code",
   "execution_count": 29,
   "metadata": {},
   "outputs": [
    {
     "data": {
      "text/html": [
       "<div>\n",
       "<style scoped>\n",
       "    .dataframe tbody tr th:only-of-type {\n",
       "        vertical-align: middle;\n",
       "    }\n",
       "\n",
       "    .dataframe tbody tr th {\n",
       "        vertical-align: top;\n",
       "    }\n",
       "\n",
       "    .dataframe thead th {\n",
       "        text-align: right;\n",
       "    }\n",
       "</style>\n",
       "<table border=\"1\" class=\"dataframe\">\n",
       "  <thead>\n",
       "    <tr style=\"text-align: right;\">\n",
       "      <th></th>\n",
       "      <th>city</th>\n",
       "      <th>area</th>\n",
       "      <th>rooms</th>\n",
       "      <th>bathroom</th>\n",
       "      <th>parking spaces</th>\n",
       "      <th>floor</th>\n",
       "      <th>animal</th>\n",
       "      <th>furniture</th>\n",
       "      <th>hoa</th>\n",
       "      <th>rent amount</th>\n",
       "      <th>property tax</th>\n",
       "      <th>fire insurance</th>\n",
       "      <th>total</th>\n",
       "    </tr>\n",
       "  </thead>\n",
       "  <tbody>\n",
       "    <tr>\n",
       "      <th>count</th>\n",
       "      <td>5882.000000</td>\n",
       "      <td>5882.000000</td>\n",
       "      <td>5882.000000</td>\n",
       "      <td>5882.000000</td>\n",
       "      <td>5882.000000</td>\n",
       "      <td>5882.000000</td>\n",
       "      <td>5882.000000</td>\n",
       "      <td>5882.000000</td>\n",
       "      <td>5686.000000</td>\n",
       "      <td>5882.000000</td>\n",
       "      <td>5855.000000</td>\n",
       "      <td>5882.000000</td>\n",
       "      <td>5882.000000</td>\n",
       "    </tr>\n",
       "    <tr>\n",
       "      <th>mean</th>\n",
       "      <td>0.865352</td>\n",
       "      <td>154.494390</td>\n",
       "      <td>2.528052</td>\n",
       "      <td>2.377763</td>\n",
       "      <td>1.799728</td>\n",
       "      <td>7.483509</td>\n",
       "      <td>0.229004</td>\n",
       "      <td>0.739374</td>\n",
       "      <td>1144.937390</td>\n",
       "      <td>4479.392724</td>\n",
       "      <td>506.650384</td>\n",
       "      <td>59.316049</td>\n",
       "      <td>6150.218293</td>\n",
       "    </tr>\n",
       "    <tr>\n",
       "      <th>std</th>\n",
       "      <td>0.341376</td>\n",
       "      <td>381.295055</td>\n",
       "      <td>1.124299</td>\n",
       "      <td>1.443171</td>\n",
       "      <td>1.615585</td>\n",
       "      <td>5.164871</td>\n",
       "      <td>0.420227</td>\n",
       "      <td>0.439013</td>\n",
       "      <td>4108.649819</td>\n",
       "      <td>3601.273801</td>\n",
       "      <td>6330.234201</td>\n",
       "      <td>49.691101</td>\n",
       "      <td>8868.503973</td>\n",
       "    </tr>\n",
       "    <tr>\n",
       "      <th>min</th>\n",
       "      <td>0.000000</td>\n",
       "      <td>10.000000</td>\n",
       "      <td>1.000000</td>\n",
       "      <td>1.000000</td>\n",
       "      <td>0.000000</td>\n",
       "      <td>1.000000</td>\n",
       "      <td>0.000000</td>\n",
       "      <td>0.000000</td>\n",
       "      <td>0.000000</td>\n",
       "      <td>420.000000</td>\n",
       "      <td>0.000000</td>\n",
       "      <td>3.000000</td>\n",
       "      <td>660.000000</td>\n",
       "    </tr>\n",
       "    <tr>\n",
       "      <th>25%</th>\n",
       "      <td>1.000000</td>\n",
       "      <td>60.000000</td>\n",
       "      <td>2.000000</td>\n",
       "      <td>1.000000</td>\n",
       "      <td>1.000000</td>\n",
       "      <td>4.000000</td>\n",
       "      <td>0.000000</td>\n",
       "      <td>0.000000</td>\n",
       "      <td>250.000000</td>\n",
       "      <td>1881.000000</td>\n",
       "      <td>35.000000</td>\n",
       "      <td>23.000000</td>\n",
       "      <td>2496.000000</td>\n",
       "    </tr>\n",
       "    <tr>\n",
       "      <th>50%</th>\n",
       "      <td>1.000000</td>\n",
       "      <td>100.000000</td>\n",
       "      <td>3.000000</td>\n",
       "      <td>2.000000</td>\n",
       "      <td>1.000000</td>\n",
       "      <td>7.000000</td>\n",
       "      <td>0.000000</td>\n",
       "      <td>1.000000</td>\n",
       "      <td>700.000000</td>\n",
       "      <td>3200.000000</td>\n",
       "      <td>158.000000</td>\n",
       "      <td>42.000000</td>\n",
       "      <td>4247.000000</td>\n",
       "    </tr>\n",
       "    <tr>\n",
       "      <th>75%</th>\n",
       "      <td>1.000000</td>\n",
       "      <td>200.000000</td>\n",
       "      <td>3.000000</td>\n",
       "      <td>3.000000</td>\n",
       "      <td>3.000000</td>\n",
       "      <td>9.000000</td>\n",
       "      <td>0.000000</td>\n",
       "      <td>1.000000</td>\n",
       "      <td>1500.000000</td>\n",
       "      <td>6000.000000</td>\n",
       "      <td>473.000000</td>\n",
       "      <td>79.000000</td>\n",
       "      <td>8216.750000</td>\n",
       "    </tr>\n",
       "    <tr>\n",
       "      <th>max</th>\n",
       "      <td>1.000000</td>\n",
       "      <td>24606.000000</td>\n",
       "      <td>10.000000</td>\n",
       "      <td>10.000000</td>\n",
       "      <td>12.000000</td>\n",
       "      <td>99.000000</td>\n",
       "      <td>1.000000</td>\n",
       "      <td>1.000000</td>\n",
       "      <td>220000.000000</td>\n",
       "      <td>45000.000000</td>\n",
       "      <td>366300.000000</td>\n",
       "      <td>677.000000</td>\n",
       "      <td>372700.000000</td>\n",
       "    </tr>\n",
       "  </tbody>\n",
       "</table>\n",
       "</div>"
      ],
      "text/plain": [
       "              city          area        rooms     bathroom  parking spaces  \\\n",
       "count  5882.000000   5882.000000  5882.000000  5882.000000     5882.000000   \n",
       "mean      0.865352    154.494390     2.528052     2.377763        1.799728   \n",
       "std       0.341376    381.295055     1.124299     1.443171        1.615585   \n",
       "min       0.000000     10.000000     1.000000     1.000000        0.000000   \n",
       "25%       1.000000     60.000000     2.000000     1.000000        1.000000   \n",
       "50%       1.000000    100.000000     3.000000     2.000000        1.000000   \n",
       "75%       1.000000    200.000000     3.000000     3.000000        3.000000   \n",
       "max       1.000000  24606.000000    10.000000    10.000000       12.000000   \n",
       "\n",
       "             floor       animal    furniture            hoa   rent amount  \\\n",
       "count  5882.000000  5882.000000  5882.000000    5686.000000   5882.000000   \n",
       "mean      7.483509     0.229004     0.739374    1144.937390   4479.392724   \n",
       "std       5.164871     0.420227     0.439013    4108.649819   3601.273801   \n",
       "min       1.000000     0.000000     0.000000       0.000000    420.000000   \n",
       "25%       4.000000     0.000000     0.000000     250.000000   1881.000000   \n",
       "50%       7.000000     0.000000     1.000000     700.000000   3200.000000   \n",
       "75%       9.000000     0.000000     1.000000    1500.000000   6000.000000   \n",
       "max      99.000000     1.000000     1.000000  220000.000000  45000.000000   \n",
       "\n",
       "        property tax  fire insurance          total  \n",
       "count    5855.000000     5882.000000    5882.000000  \n",
       "mean      506.650384       59.316049    6150.218293  \n",
       "std      6330.234201       49.691101    8868.503973  \n",
       "min         0.000000        3.000000     660.000000  \n",
       "25%        35.000000       23.000000    2496.000000  \n",
       "50%       158.000000       42.000000    4247.000000  \n",
       "75%       473.000000       79.000000    8216.750000  \n",
       "max    366300.000000      677.000000  372700.000000  "
      ]
     },
     "execution_count": 29,
     "metadata": {},
     "output_type": "execute_result"
    }
   ],
   "source": [
    "df_new.describe()"
   ]
  },
  {
   "cell_type": "code",
   "execution_count": 30,
   "metadata": {},
   "outputs": [
    {
     "data": {
      "text/html": [
       "<div>\n",
       "<style scoped>\n",
       "    .dataframe tbody tr th:only-of-type {\n",
       "        vertical-align: middle;\n",
       "    }\n",
       "\n",
       "    .dataframe tbody tr th {\n",
       "        vertical-align: top;\n",
       "    }\n",
       "\n",
       "    .dataframe thead th {\n",
       "        text-align: right;\n",
       "    }\n",
       "</style>\n",
       "<table border=\"1\" class=\"dataframe\">\n",
       "  <thead>\n",
       "    <tr style=\"text-align: right;\">\n",
       "      <th></th>\n",
       "      <th>city</th>\n",
       "      <th>area</th>\n",
       "      <th>rooms</th>\n",
       "      <th>bathroom</th>\n",
       "      <th>parking spaces</th>\n",
       "      <th>floor</th>\n",
       "      <th>animal</th>\n",
       "      <th>furniture</th>\n",
       "      <th>hoa</th>\n",
       "      <th>rent amount</th>\n",
       "      <th>property tax</th>\n",
       "      <th>fire insurance</th>\n",
       "      <th>total</th>\n",
       "    </tr>\n",
       "  </thead>\n",
       "  <tbody>\n",
       "    <tr>\n",
       "      <th>city</th>\n",
       "      <td>1.000000</td>\n",
       "      <td>0.007780</td>\n",
       "      <td>0.041741</td>\n",
       "      <td>0.090837</td>\n",
       "      <td>0.033108</td>\n",
       "      <td>0.091226</td>\n",
       "      <td>0.031258</td>\n",
       "      <td>-0.101450</td>\n",
       "      <td>0.044570</td>\n",
       "      <td>0.210036</td>\n",
       "      <td>0.021538</td>\n",
       "      <td>0.192221</td>\n",
       "      <td>0.121072</td>\n",
       "    </tr>\n",
       "    <tr>\n",
       "      <th>area</th>\n",
       "      <td>0.007780</td>\n",
       "      <td>1.000000</td>\n",
       "      <td>0.262737</td>\n",
       "      <td>0.271482</td>\n",
       "      <td>0.247998</td>\n",
       "      <td>0.023319</td>\n",
       "      <td>-0.063883</td>\n",
       "      <td>0.020908</td>\n",
       "      <td>0.043277</td>\n",
       "      <td>0.232098</td>\n",
       "      <td>0.032025</td>\n",
       "      <td>0.243643</td>\n",
       "      <td>0.137953</td>\n",
       "    </tr>\n",
       "    <tr>\n",
       "      <th>rooms</th>\n",
       "      <td>0.041741</td>\n",
       "      <td>0.262737</td>\n",
       "      <td>1.000000</td>\n",
       "      <td>0.741614</td>\n",
       "      <td>0.615886</td>\n",
       "      <td>0.029728</td>\n",
       "      <td>-0.202007</td>\n",
       "      <td>0.084920</td>\n",
       "      <td>0.128176</td>\n",
       "      <td>0.526743</td>\n",
       "      <td>0.043043</td>\n",
       "      <td>0.550190</td>\n",
       "      <td>0.304456</td>\n",
       "    </tr>\n",
       "    <tr>\n",
       "      <th>bathroom</th>\n",
       "      <td>0.090837</td>\n",
       "      <td>0.271482</td>\n",
       "      <td>0.741614</td>\n",
       "      <td>1.000000</td>\n",
       "      <td>0.680284</td>\n",
       "      <td>0.102716</td>\n",
       "      <td>-0.151923</td>\n",
       "      <td>-0.020367</td>\n",
       "      <td>0.153809</td>\n",
       "      <td>0.651425</td>\n",
       "      <td>0.063808</td>\n",
       "      <td>0.661196</td>\n",
       "      <td>0.382461</td>\n",
       "    </tr>\n",
       "    <tr>\n",
       "      <th>parking spaces</th>\n",
       "      <td>0.033108</td>\n",
       "      <td>0.247998</td>\n",
       "      <td>0.615886</td>\n",
       "      <td>0.680284</td>\n",
       "      <td>1.000000</td>\n",
       "      <td>0.098743</td>\n",
       "      <td>-0.162105</td>\n",
       "      <td>-0.004559</td>\n",
       "      <td>0.099770</td>\n",
       "      <td>0.569515</td>\n",
       "      <td>0.041342</td>\n",
       "      <td>0.595409</td>\n",
       "      <td>0.307393</td>\n",
       "    </tr>\n",
       "    <tr>\n",
       "      <th>floor</th>\n",
       "      <td>0.091226</td>\n",
       "      <td>0.023319</td>\n",
       "      <td>0.029728</td>\n",
       "      <td>0.102716</td>\n",
       "      <td>0.098743</td>\n",
       "      <td>1.000000</td>\n",
       "      <td>0.019799</td>\n",
       "      <td>-0.086674</td>\n",
       "      <td>0.033678</td>\n",
       "      <td>0.152927</td>\n",
       "      <td>0.022564</td>\n",
       "      <td>0.131312</td>\n",
       "      <td>0.094907</td>\n",
       "    </tr>\n",
       "    <tr>\n",
       "      <th>animal</th>\n",
       "      <td>0.031258</td>\n",
       "      <td>-0.063883</td>\n",
       "      <td>-0.202007</td>\n",
       "      <td>-0.151923</td>\n",
       "      <td>-0.162105</td>\n",
       "      <td>0.019799</td>\n",
       "      <td>1.000000</td>\n",
       "      <td>-0.076443</td>\n",
       "      <td>-0.018879</td>\n",
       "      <td>-0.093837</td>\n",
       "      <td>0.023997</td>\n",
       "      <td>-0.104912</td>\n",
       "      <td>-0.031144</td>\n",
       "    </tr>\n",
       "    <tr>\n",
       "      <th>furniture</th>\n",
       "      <td>-0.101450</td>\n",
       "      <td>0.020908</td>\n",
       "      <td>0.084920</td>\n",
       "      <td>-0.020367</td>\n",
       "      <td>-0.004559</td>\n",
       "      <td>-0.086674</td>\n",
       "      <td>-0.076443</td>\n",
       "      <td>1.000000</td>\n",
       "      <td>-0.040721</td>\n",
       "      <td>-0.164811</td>\n",
       "      <td>-0.012733</td>\n",
       "      <td>-0.134312</td>\n",
       "      <td>-0.096076</td>\n",
       "    </tr>\n",
       "    <tr>\n",
       "      <th>hoa</th>\n",
       "      <td>0.044570</td>\n",
       "      <td>0.043277</td>\n",
       "      <td>0.128176</td>\n",
       "      <td>0.153809</td>\n",
       "      <td>0.099770</td>\n",
       "      <td>0.033678</td>\n",
       "      <td>-0.018879</td>\n",
       "      <td>-0.040721</td>\n",
       "      <td>1.000000</td>\n",
       "      <td>0.193396</td>\n",
       "      <td>0.016324</td>\n",
       "      <td>0.165873</td>\n",
       "      <td>0.547311</td>\n",
       "    </tr>\n",
       "    <tr>\n",
       "      <th>rent amount</th>\n",
       "      <td>0.210036</td>\n",
       "      <td>0.232098</td>\n",
       "      <td>0.526743</td>\n",
       "      <td>0.651425</td>\n",
       "      <td>0.569515</td>\n",
       "      <td>0.152927</td>\n",
       "      <td>-0.093837</td>\n",
       "      <td>-0.164811</td>\n",
       "      <td>0.193396</td>\n",
       "      <td>1.000000</td>\n",
       "      <td>0.057074</td>\n",
       "      <td>0.985698</td>\n",
       "      <td>0.538725</td>\n",
       "    </tr>\n",
       "    <tr>\n",
       "      <th>property tax</th>\n",
       "      <td>0.021538</td>\n",
       "      <td>0.032025</td>\n",
       "      <td>0.043043</td>\n",
       "      <td>0.063808</td>\n",
       "      <td>0.041342</td>\n",
       "      <td>0.022564</td>\n",
       "      <td>0.023997</td>\n",
       "      <td>-0.012733</td>\n",
       "      <td>0.016324</td>\n",
       "      <td>0.057074</td>\n",
       "      <td>1.000000</td>\n",
       "      <td>0.057208</td>\n",
       "      <td>0.743410</td>\n",
       "    </tr>\n",
       "    <tr>\n",
       "      <th>fire insurance</th>\n",
       "      <td>0.192221</td>\n",
       "      <td>0.243643</td>\n",
       "      <td>0.550190</td>\n",
       "      <td>0.661196</td>\n",
       "      <td>0.595409</td>\n",
       "      <td>0.131312</td>\n",
       "      <td>-0.104912</td>\n",
       "      <td>-0.134312</td>\n",
       "      <td>0.165873</td>\n",
       "      <td>0.985698</td>\n",
       "      <td>0.057208</td>\n",
       "      <td>1.000000</td>\n",
       "      <td>0.520105</td>\n",
       "    </tr>\n",
       "    <tr>\n",
       "      <th>total</th>\n",
       "      <td>0.121072</td>\n",
       "      <td>0.137953</td>\n",
       "      <td>0.304456</td>\n",
       "      <td>0.382461</td>\n",
       "      <td>0.307393</td>\n",
       "      <td>0.094907</td>\n",
       "      <td>-0.031144</td>\n",
       "      <td>-0.096076</td>\n",
       "      <td>0.547311</td>\n",
       "      <td>0.538725</td>\n",
       "      <td>0.743410</td>\n",
       "      <td>0.520105</td>\n",
       "      <td>1.000000</td>\n",
       "    </tr>\n",
       "  </tbody>\n",
       "</table>\n",
       "</div>"
      ],
      "text/plain": [
       "                    city      area     rooms  bathroom  parking spaces  \\\n",
       "city            1.000000  0.007780  0.041741  0.090837        0.033108   \n",
       "area            0.007780  1.000000  0.262737  0.271482        0.247998   \n",
       "rooms           0.041741  0.262737  1.000000  0.741614        0.615886   \n",
       "bathroom        0.090837  0.271482  0.741614  1.000000        0.680284   \n",
       "parking spaces  0.033108  0.247998  0.615886  0.680284        1.000000   \n",
       "floor           0.091226  0.023319  0.029728  0.102716        0.098743   \n",
       "animal          0.031258 -0.063883 -0.202007 -0.151923       -0.162105   \n",
       "furniture      -0.101450  0.020908  0.084920 -0.020367       -0.004559   \n",
       "hoa             0.044570  0.043277  0.128176  0.153809        0.099770   \n",
       "rent amount     0.210036  0.232098  0.526743  0.651425        0.569515   \n",
       "property tax    0.021538  0.032025  0.043043  0.063808        0.041342   \n",
       "fire insurance  0.192221  0.243643  0.550190  0.661196        0.595409   \n",
       "total           0.121072  0.137953  0.304456  0.382461        0.307393   \n",
       "\n",
       "                   floor    animal  furniture       hoa  rent amount  \\\n",
       "city            0.091226  0.031258  -0.101450  0.044570     0.210036   \n",
       "area            0.023319 -0.063883   0.020908  0.043277     0.232098   \n",
       "rooms           0.029728 -0.202007   0.084920  0.128176     0.526743   \n",
       "bathroom        0.102716 -0.151923  -0.020367  0.153809     0.651425   \n",
       "parking spaces  0.098743 -0.162105  -0.004559  0.099770     0.569515   \n",
       "floor           1.000000  0.019799  -0.086674  0.033678     0.152927   \n",
       "animal          0.019799  1.000000  -0.076443 -0.018879    -0.093837   \n",
       "furniture      -0.086674 -0.076443   1.000000 -0.040721    -0.164811   \n",
       "hoa             0.033678 -0.018879  -0.040721  1.000000     0.193396   \n",
       "rent amount     0.152927 -0.093837  -0.164811  0.193396     1.000000   \n",
       "property tax    0.022564  0.023997  -0.012733  0.016324     0.057074   \n",
       "fire insurance  0.131312 -0.104912  -0.134312  0.165873     0.985698   \n",
       "total           0.094907 -0.031144  -0.096076  0.547311     0.538725   \n",
       "\n",
       "                property tax  fire insurance     total  \n",
       "city                0.021538        0.192221  0.121072  \n",
       "area                0.032025        0.243643  0.137953  \n",
       "rooms               0.043043        0.550190  0.304456  \n",
       "bathroom            0.063808        0.661196  0.382461  \n",
       "parking spaces      0.041342        0.595409  0.307393  \n",
       "floor               0.022564        0.131312  0.094907  \n",
       "animal              0.023997       -0.104912 -0.031144  \n",
       "furniture          -0.012733       -0.134312 -0.096076  \n",
       "hoa                 0.016324        0.165873  0.547311  \n",
       "rent amount         0.057074        0.985698  0.538725  \n",
       "property tax        1.000000        0.057208  0.743410  \n",
       "fire insurance      0.057208        1.000000  0.520105  \n",
       "total               0.743410        0.520105  1.000000  "
      ]
     },
     "execution_count": 30,
     "metadata": {},
     "output_type": "execute_result"
    }
   ],
   "source": [
    "df_new.corr()"
   ]
  },
  {
   "cell_type": "code",
   "execution_count": 31,
   "metadata": {},
   "outputs": [
    {
     "data": {
      "text/plain": [
       "<matplotlib.axes._subplots.AxesSubplot at 0x9c52190>"
      ]
     },
     "execution_count": 31,
     "metadata": {},
     "output_type": "execute_result"
    },
    {
     "data": {
      "image/png": "[encoded data removed]",
      "text/plain": [
       "<Figure size 432x288 with 2 Axes>"
      ]
     },
     "metadata": {
      "needs_background": "light"
     },
     "output_type": "display_data"
    }
   ],
   "source": [
    "corr = df_new.corr()\n",
    "sns.heatmap(corr, xticklabels=corr.columns, yticklabels=corr.columns,cmap=sns.diverging_palette(220, 20, as_cmap=True))"
   ]
  },
  {
   "cell_type": "code",
   "execution_count": 32,
   "metadata": {},
   "outputs": [
    {
     "name": "stdout",
     "output_type": "stream",
     "text": [
      "city                 0.00\n",
      "area               140.00\n",
      "rooms                1.00\n",
      "bathroom             2.00\n",
      "parking spaces       2.00\n",
      "floor                5.00\n",
      "animal               0.00\n",
      "furniture            1.00\n",
      "hoa               1250.00\n",
      "rent amount       4119.00\n",
      "property tax       438.00\n",
      "fire insurance      56.00\n",
      "total             5720.75\n",
      "dtype: float64\n"
     ]
    }
   ],
   "source": [
    "Q1 = df_new.quantile(0.25)\n",
    "Q3 = df_new.quantile(0.75)\n",
    "IQR = Q3 - Q1\n",
    "print(IQR)"
   ]
  },
  {
   "cell_type": "code",
   "execution_count": 33,
   "metadata": {
    "scrolled": true
   },
   "outputs": [
    {
     "name": "stdout",
     "output_type": "stream",
     "text": [
      "       city   area  rooms  bathroom  parking spaces  floor  animal  furniture  \\\n",
      "0     False  False  False     False           False  False   False      False   \n",
      "1      True  False  False     False           False  False   False      False   \n",
      "2     False  False  False     False           False  False   False      False   \n",
      "3     False  False  False     False           False  False   False      False   \n",
      "4     False  False  False     False           False  False   False      False   \n",
      "...     ...    ...    ...       ...             ...    ...     ...        ...   \n",
      "6075  False  False  False     False           False  False   False      False   \n",
      "6076  False  False  False     False           False  False   False      False   \n",
      "6077   True  False  False     False           False  False   False      False   \n",
      "6078  False  False  False     False           False  False   False      False   \n",
      "6079  False  False  False     False           False  False   False      False   \n",
      "\n",
      "        hoa  rent amount  property tax  fire insurance  total  \n",
      "0     False        False         False           False  False  \n",
      "1     False        False         False           False  False  \n",
      "2     False        False         False           False  False  \n",
      "3     False        False         False           False  False  \n",
      "4     False        False         False           False  False  \n",
      "...     ...          ...           ...             ...    ...  \n",
      "6075  False        False         False           False  False  \n",
      "6076  False        False         False           False  False  \n",
      "6077  False        False         False           False  False  \n",
      "6078  False        False         False           False  False  \n",
      "6079  False        False         False           False  False  \n",
      "\n",
      "[5882 rows x 13 columns]\n"
     ]
    },
    {
     "ename": "TypeError",
     "evalue": "Cannot perform 'ror_' with a dtyped [bool] array and scalar of type [NoneType]",
     "output_type": "error",
     "traceback": [
      "\u001b[1;31m---------------------------------------------------------------------------\u001b[0m",
      "\u001b[1;31mTypeError\u001b[0m                                 Traceback (most recent call last)",
      "\u001b[1;32m~\\Nowy folder\\lib\\site-packages\\pandas\\core\\ops\\array_ops.py\u001b[0m in \u001b[0;36mna_logical_op\u001b[1;34m(x, y, op)\u001b[0m\n\u001b[0;32m    273\u001b[0m         \u001b[1;31m#  (xint or xbool) and (yint or bool)\u001b[0m\u001b[1;33m\u001b[0m\u001b[1;33m\u001b[0m\u001b[1;33m\u001b[0m\u001b[0m\n\u001b[1;32m--> 274\u001b[1;33m         \u001b[0mresult\u001b[0m \u001b[1;33m=\u001b[0m \u001b[0mop\u001b[0m\u001b[1;33m(\u001b[0m\u001b[0mx\u001b[0m\u001b[1;33m,\u001b[0m \u001b[0my\u001b[0m\u001b[1;33m)\u001b[0m\u001b[1;33m\u001b[0m\u001b[1;33m\u001b[0m\u001b[0m\n\u001b[0m\u001b[0;32m    275\u001b[0m     \u001b[1;32mexcept\u001b[0m \u001b[0mTypeError\u001b[0m\u001b[1;33m:\u001b[0m\u001b[1;33m\u001b[0m\u001b[1;33m\u001b[0m\u001b[0m\n",
      "\u001b[1;32m~\\Nowy folder\\lib\\site-packages\\pandas\\core\\ops\\roperator.py\u001b[0m in \u001b[0;36mror_\u001b[1;34m(left, right)\u001b[0m\n\u001b[0;32m     55\u001b[0m \u001b[1;32mdef\u001b[0m \u001b[0mror_\u001b[0m\u001b[1;33m(\u001b[0m\u001b[0mleft\u001b[0m\u001b[1;33m,\u001b[0m \u001b[0mright\u001b[0m\u001b[1;33m)\u001b[0m\u001b[1;33m:\u001b[0m\u001b[1;33m\u001b[0m\u001b[1;33m\u001b[0m\u001b[0m\n\u001b[1;32m---> 56\u001b[1;33m     \u001b[1;32mreturn\u001b[0m \u001b[0moperator\u001b[0m\u001b[1;33m.\u001b[0m\u001b[0mor_\u001b[0m\u001b[1;33m(\u001b[0m\u001b[0mright\u001b[0m\u001b[1;33m,\u001b[0m \u001b[0mleft\u001b[0m\u001b[1;33m)\u001b[0m\u001b[1;33m\u001b[0m\u001b[1;33m\u001b[0m\u001b[0m\n\u001b[0m\u001b[0;32m     57\u001b[0m \u001b[1;33m\u001b[0m\u001b[0m\n",
      "\u001b[1;31mTypeError\u001b[0m: unsupported operand type(s) for |: 'NoneType' and 'bool'",
      "\nDuring handling of the above exception, another exception occurred:\n",
      "\u001b[1;31mValueError\u001b[0m                                Traceback (most recent call last)",
      "\u001b[1;32m~\\Nowy folder\\lib\\site-packages\\pandas\\core\\ops\\array_ops.py\u001b[0m in \u001b[0;36mna_logical_op\u001b[1;34m(x, y, op)\u001b[0m\n\u001b[0;32m    287\u001b[0m             \u001b[1;32mtry\u001b[0m\u001b[1;33m:\u001b[0m\u001b[1;33m\u001b[0m\u001b[1;33m\u001b[0m\u001b[0m\n\u001b[1;32m--> 288\u001b[1;33m                 \u001b[0mresult\u001b[0m \u001b[1;33m=\u001b[0m \u001b[0mlibops\u001b[0m\u001b[1;33m.\u001b[0m\u001b[0mscalar_binop\u001b[0m\u001b[1;33m(\u001b[0m\u001b[0mx\u001b[0m\u001b[1;33m,\u001b[0m \u001b[0my\u001b[0m\u001b[1;33m,\u001b[0m \u001b[0mop\u001b[0m\u001b[1;33m)\u001b[0m\u001b[1;33m\u001b[0m\u001b[1;33m\u001b[0m\u001b[0m\n\u001b[0m\u001b[0;32m    289\u001b[0m             except (\n",
      "\u001b[1;32mpandas\\_libs\\ops.pyx\u001b[0m in \u001b[0;36mpandas._libs.ops.scalar_binop\u001b[1;34m()\u001b[0m\n",
      "\u001b[1;31mValueError\u001b[0m: Buffer has wrong number of dimensions (expected 1, got 2)",
      "\nDuring handling of the above exception, another exception occurred:\n",
      "\u001b[1;31mTypeError\u001b[0m                                 Traceback (most recent call last)",
      "\u001b[1;32m<ipython-input-33-3c0d2098f552>\u001b[0m in \u001b[0;36m<module>\u001b[1;34m\u001b[0m\n\u001b[1;32m----> 1\u001b[1;33m \u001b[0mprint\u001b[0m\u001b[1;33m(\u001b[0m\u001b[0mdf_new\u001b[0m \u001b[1;33m<\u001b[0m \u001b[1;33m(\u001b[0m\u001b[0mQ1\u001b[0m \u001b[1;33m-\u001b[0m \u001b[1;36m1.5\u001b[0m \u001b[1;33m*\u001b[0m \u001b[0mIQR\u001b[0m\u001b[1;33m)\u001b[0m\u001b[1;33m)\u001b[0m \u001b[1;33m|\u001b[0m\u001b[1;33m(\u001b[0m\u001b[0mdf_new\u001b[0m \u001b[1;33m>\u001b[0m \u001b[1;33m(\u001b[0m\u001b[0mQ3\u001b[0m \u001b[1;33m+\u001b[0m \u001b[1;36m1.5\u001b[0m \u001b[1;33m*\u001b[0m \u001b[0mIQR\u001b[0m\u001b[1;33m)\u001b[0m\u001b[1;33m)\u001b[0m\u001b[1;33m\u001b[0m\u001b[1;33m\u001b[0m\u001b[0m\n\u001b[0m",
      "\u001b[1;32m~\\Nowy folder\\lib\\site-packages\\pandas\\core\\ops\\__init__.py\u001b[0m in \u001b[0;36mf\u001b[1;34m(self, other, axis, level, fill_value)\u001b[0m\n\u001b[0;32m    717\u001b[0m                 \u001b[0mself\u001b[0m \u001b[1;33m=\u001b[0m \u001b[0mself\u001b[0m\u001b[1;33m.\u001b[0m\u001b[0mfillna\u001b[0m\u001b[1;33m(\u001b[0m\u001b[0mfill_value\u001b[0m\u001b[1;33m)\u001b[0m\u001b[1;33m\u001b[0m\u001b[1;33m\u001b[0m\u001b[0m\n\u001b[0;32m    718\u001b[0m \u001b[1;33m\u001b[0m\u001b[0m\n\u001b[1;32m--> 719\u001b[1;33m             \u001b[0mnew_data\u001b[0m \u001b[1;33m=\u001b[0m \u001b[0mdispatch_to_series\u001b[0m\u001b[1;33m(\u001b[0m\u001b[0mself\u001b[0m\u001b[1;33m,\u001b[0m \u001b[0mother\u001b[0m\u001b[1;33m,\u001b[0m \u001b[0mop\u001b[0m\u001b[1;33m,\u001b[0m \u001b[0mstr_rep\u001b[0m\u001b[1;33m)\u001b[0m\u001b[1;33m\u001b[0m\u001b[1;33m\u001b[0m\u001b[0m\n\u001b[0m\u001b[0;32m    720\u001b[0m             \u001b[1;32mreturn\u001b[0m \u001b[0mself\u001b[0m\u001b[1;33m.\u001b[0m\u001b[0m_construct_result\u001b[0m\u001b[1;33m(\u001b[0m\u001b[0mnew_data\u001b[0m\u001b[1;33m)\u001b[0m\u001b[1;33m\u001b[0m\u001b[1;33m\u001b[0m\u001b[0m\n\u001b[0;32m    721\u001b[0m \u001b[1;33m\u001b[0m\u001b[0m\n",
      "\u001b[1;32m~\\Nowy folder\\lib\\site-packages\\pandas\\core\\ops\\__init__.py\u001b[0m in \u001b[0;36mdispatch_to_series\u001b[1;34m(left, right, func, str_rep, axis)\u001b[0m\n\u001b[0;32m    376\u001b[0m         \u001b[1;31m# Get the appropriate array-op to apply to each block's values.\u001b[0m\u001b[1;33m\u001b[0m\u001b[1;33m\u001b[0m\u001b[1;33m\u001b[0m\u001b[0m\n\u001b[0;32m    377\u001b[0m         \u001b[0marray_op\u001b[0m \u001b[1;33m=\u001b[0m \u001b[0mget_array_op\u001b[0m\u001b[1;33m(\u001b[0m\u001b[0mfunc\u001b[0m\u001b[1;33m,\u001b[0m \u001b[0mstr_rep\u001b[0m\u001b[1;33m=\u001b[0m\u001b[0mstr_rep\u001b[0m\u001b[1;33m)\u001b[0m\u001b[1;33m\u001b[0m\u001b[1;33m\u001b[0m\u001b[0m\n\u001b[1;32m--> 378\u001b[1;33m         \u001b[0mbm\u001b[0m \u001b[1;33m=\u001b[0m \u001b[0mleft\u001b[0m\u001b[1;33m.\u001b[0m\u001b[0m_data\u001b[0m\u001b[1;33m.\u001b[0m\u001b[0mapply\u001b[0m\u001b[1;33m(\u001b[0m\u001b[0marray_op\u001b[0m\u001b[1;33m,\u001b[0m \u001b[0mright\u001b[0m\u001b[1;33m=\u001b[0m\u001b[0mright\u001b[0m\u001b[1;33m)\u001b[0m\u001b[1;33m\u001b[0m\u001b[1;33m\u001b[0m\u001b[0m\n\u001b[0m\u001b[0;32m    379\u001b[0m         \u001b[1;32mreturn\u001b[0m \u001b[0mtype\u001b[0m\u001b[1;33m(\u001b[0m\u001b[0mleft\u001b[0m\u001b[1;33m)\u001b[0m\u001b[1;33m(\u001b[0m\u001b[0mbm\u001b[0m\u001b[1;33m)\u001b[0m\u001b[1;33m\u001b[0m\u001b[1;33m\u001b[0m\u001b[0m\n\u001b[0;32m    380\u001b[0m \u001b[1;33m\u001b[0m\u001b[0m\n",
      "\u001b[1;32m~\\Nowy folder\\lib\\site-packages\\pandas\\core\\internals\\managers.py\u001b[0m in \u001b[0;36mapply\u001b[1;34m(self, f, filter, **kwargs)\u001b[0m\n\u001b[0;32m    438\u001b[0m \u001b[1;33m\u001b[0m\u001b[0m\n\u001b[0;32m    439\u001b[0m             \u001b[1;32mif\u001b[0m \u001b[0mcallable\u001b[0m\u001b[1;33m(\u001b[0m\u001b[0mf\u001b[0m\u001b[1;33m)\u001b[0m\u001b[1;33m:\u001b[0m\u001b[1;33m\u001b[0m\u001b[1;33m\u001b[0m\u001b[0m\n\u001b[1;32m--> 440\u001b[1;33m                 \u001b[0mapplied\u001b[0m \u001b[1;33m=\u001b[0m \u001b[0mb\u001b[0m\u001b[1;33m.\u001b[0m\u001b[0mapply\u001b[0m\u001b[1;33m(\u001b[0m\u001b[0mf\u001b[0m\u001b[1;33m,\u001b[0m \u001b[1;33m**\u001b[0m\u001b[0mkwargs\u001b[0m\u001b[1;33m)\u001b[0m\u001b[1;33m\u001b[0m\u001b[1;33m\u001b[0m\u001b[0m\n\u001b[0m\u001b[0;32m    441\u001b[0m             \u001b[1;32melse\u001b[0m\u001b[1;33m:\u001b[0m\u001b[1;33m\u001b[0m\u001b[1;33m\u001b[0m\u001b[0m\n\u001b[0;32m    442\u001b[0m                 \u001b[0mapplied\u001b[0m \u001b[1;33m=\u001b[0m \u001b[0mgetattr\u001b[0m\u001b[1;33m(\u001b[0m\u001b[0mb\u001b[0m\u001b[1;33m,\u001b[0m \u001b[0mf\u001b[0m\u001b[1;33m)\u001b[0m\u001b[1;33m(\u001b[0m\u001b[1;33m**\u001b[0m\u001b[0mkwargs\u001b[0m\u001b[1;33m)\u001b[0m\u001b[1;33m\u001b[0m\u001b[1;33m\u001b[0m\u001b[0m\n",
      "\u001b[1;32m~\\Nowy folder\\lib\\site-packages\\pandas\\core\\internals\\blocks.py\u001b[0m in \u001b[0;36mapply\u001b[1;34m(self, func, **kwargs)\u001b[0m\n\u001b[0;32m    388\u001b[0m         \"\"\"\n\u001b[0;32m    389\u001b[0m         \u001b[1;32mwith\u001b[0m \u001b[0mnp\u001b[0m\u001b[1;33m.\u001b[0m\u001b[0merrstate\u001b[0m\u001b[1;33m(\u001b[0m\u001b[0mall\u001b[0m\u001b[1;33m=\u001b[0m\u001b[1;34m\"ignore\"\u001b[0m\u001b[1;33m)\u001b[0m\u001b[1;33m:\u001b[0m\u001b[1;33m\u001b[0m\u001b[1;33m\u001b[0m\u001b[0m\n\u001b[1;32m--> 390\u001b[1;33m             \u001b[0mresult\u001b[0m \u001b[1;33m=\u001b[0m \u001b[0mfunc\u001b[0m\u001b[1;33m(\u001b[0m\u001b[0mself\u001b[0m\u001b[1;33m.\u001b[0m\u001b[0mvalues\u001b[0m\u001b[1;33m,\u001b[0m \u001b[1;33m**\u001b[0m\u001b[0mkwargs\u001b[0m\u001b[1;33m)\u001b[0m\u001b[1;33m\u001b[0m\u001b[1;33m\u001b[0m\u001b[0m\n\u001b[0m\u001b[0;32m    391\u001b[0m \u001b[1;33m\u001b[0m\u001b[0m\n\u001b[0;32m    392\u001b[0m         \u001b[1;32mif\u001b[0m \u001b[0mis_extension_array_dtype\u001b[0m\u001b[1;33m(\u001b[0m\u001b[0mresult\u001b[0m\u001b[1;33m)\u001b[0m \u001b[1;32mand\u001b[0m \u001b[0mresult\u001b[0m\u001b[1;33m.\u001b[0m\u001b[0mndim\u001b[0m \u001b[1;33m>\u001b[0m \u001b[1;36m1\u001b[0m\u001b[1;33m:\u001b[0m\u001b[1;33m\u001b[0m\u001b[1;33m\u001b[0m\u001b[0m\n",
      "\u001b[1;32m~\\Nowy folder\\lib\\site-packages\\pandas\\core\\ops\\array_ops.py\u001b[0m in \u001b[0;36mlogical_op\u001b[1;34m(left, right, op)\u001b[0m\n\u001b[0;32m    364\u001b[0m         \u001b[0mfiller\u001b[0m \u001b[1;33m=\u001b[0m \u001b[0mfill_int\u001b[0m \u001b[1;32mif\u001b[0m \u001b[0mis_self_int_dtype\u001b[0m \u001b[1;32mand\u001b[0m \u001b[0mis_other_int_dtype\u001b[0m \u001b[1;32melse\u001b[0m \u001b[0mfill_bool\u001b[0m\u001b[1;33m\u001b[0m\u001b[1;33m\u001b[0m\u001b[0m\n\u001b[0;32m    365\u001b[0m \u001b[1;33m\u001b[0m\u001b[0m\n\u001b[1;32m--> 366\u001b[1;33m         \u001b[0mres_values\u001b[0m \u001b[1;33m=\u001b[0m \u001b[0mna_logical_op\u001b[0m\u001b[1;33m(\u001b[0m\u001b[0mlvalues\u001b[0m\u001b[1;33m,\u001b[0m \u001b[0mrvalues\u001b[0m\u001b[1;33m,\u001b[0m \u001b[0mop\u001b[0m\u001b[1;33m)\u001b[0m\u001b[1;33m\u001b[0m\u001b[1;33m\u001b[0m\u001b[0m\n\u001b[0m\u001b[0;32m    367\u001b[0m         \u001b[0mres_values\u001b[0m \u001b[1;33m=\u001b[0m \u001b[0mfiller\u001b[0m\u001b[1;33m(\u001b[0m\u001b[0mres_values\u001b[0m\u001b[1;33m)\u001b[0m  \u001b[1;31m# type: ignore\u001b[0m\u001b[1;33m\u001b[0m\u001b[1;33m\u001b[0m\u001b[0m\n\u001b[0;32m    368\u001b[0m \u001b[1;33m\u001b[0m\u001b[0m\n",
      "\u001b[1;32m~\\Nowy folder\\lib\\site-packages\\pandas\\core\\ops\\array_ops.py\u001b[0m in \u001b[0;36mna_logical_op\u001b[1;34m(x, y, op)\u001b[0m\n\u001b[0;32m    296\u001b[0m                 \u001b[0mtyp\u001b[0m \u001b[1;33m=\u001b[0m \u001b[0mtype\u001b[0m\u001b[1;33m(\u001b[0m\u001b[0my\u001b[0m\u001b[1;33m)\u001b[0m\u001b[1;33m.\u001b[0m\u001b[0m__name__\u001b[0m\u001b[1;33m\u001b[0m\u001b[1;33m\u001b[0m\u001b[0m\n\u001b[0;32m    297\u001b[0m                 raise TypeError(\n\u001b[1;32m--> 298\u001b[1;33m                     \u001b[1;34mf\"Cannot perform '{op.__name__}' with a dtyped [{x.dtype}] array \"\u001b[0m\u001b[1;33m\u001b[0m\u001b[1;33m\u001b[0m\u001b[0m\n\u001b[0m\u001b[0;32m    299\u001b[0m                     \u001b[1;34mf\"and scalar of type [{typ}]\"\u001b[0m\u001b[1;33m\u001b[0m\u001b[1;33m\u001b[0m\u001b[0m\n\u001b[0;32m    300\u001b[0m                 )\n",
      "\u001b[1;31mTypeError\u001b[0m: Cannot perform 'ror_' with a dtyped [bool] array and scalar of type [NoneType]"
     ]
    }
   ],
   "source": [
    "print(df_new < (Q1 - 1.5 * IQR)) |(df_new > (Q3 + 1.5 * IQR))"
   ]
  },
  {
   "cell_type": "code",
   "execution_count": 34,
   "metadata": {},
   "outputs": [
    {
     "name": "stdout",
     "output_type": "stream",
     "text": [
      "51.045447874114814\n"
     ]
    },
    {
     "data": {
      "text/plain": [
       "count     5882.000000\n",
       "mean       154.494390\n",
       "std        381.295055\n",
       "min         10.000000\n",
       "25%         60.000000\n",
       "50%        100.000000\n",
       "75%        200.000000\n",
       "max      24606.000000\n",
       "Name: area, dtype: float64"
      ]
     },
     "execution_count": 34,
     "metadata": {},
     "output_type": "execute_result"
    }
   ],
   "source": [
    "print(df_new['area'].skew())\n",
    "df_new['area'].describe()"
   ]
  },
  {
   "cell_type": "code",
   "execution_count": 35,
   "metadata": {},
   "outputs": [
    {
     "data": {
      "image/png": "[encoded data removed]",
      "text/plain": [
       "<Figure size 432x288 with 1 Axes>"
      ]
     },
     "metadata": {
      "needs_background": "light"
     },
     "output_type": "display_data"
    }
   ],
   "source": [
    "plt.boxplot(df_new['area'])\n",
    "plt.show()"
   ]
  },
  {
   "cell_type": "code",
   "execution_count": 36,
   "metadata": {},
   "outputs": [
    {
     "name": "stdout",
     "output_type": "stream",
     "text": [
      "46.59829689980884\n"
     ]
    },
    {
     "data": {
      "text/plain": [
       "count      5686.000000\n",
       "mean       1144.937390\n",
       "std        4108.649819\n",
       "min           0.000000\n",
       "25%         250.000000\n",
       "50%         700.000000\n",
       "75%        1500.000000\n",
       "max      220000.000000\n",
       "Name: hoa, dtype: float64"
      ]
     },
     "execution_count": 36,
     "metadata": {},
     "output_type": "execute_result"
    }
   ],
   "source": [
    "print(df_new['hoa'].skew())\n",
    "df_new['hoa'].describe()"
   ]
  },
  {
   "cell_type": "code",
   "execution_count": 37,
   "metadata": {},
   "outputs": [
    {
     "name": "stderr",
     "output_type": "stream",
     "text": [
      "C:\\Users\\Marek\\Nowy folder\\lib\\site-packages\\matplotlib\\cbook\\__init__.py:1316: RuntimeWarning: invalid value encountered in less_equal\n",
      "  wiskhi = x[x <= hival]\n",
      "C:\\Users\\Marek\\Nowy folder\\lib\\site-packages\\matplotlib\\cbook\\__init__.py:1323: RuntimeWarning: invalid value encountered in greater_equal\n",
      "  wisklo = x[x >= loval]\n",
      "C:\\Users\\Marek\\Nowy folder\\lib\\site-packages\\matplotlib\\cbook\\__init__.py:1331: RuntimeWarning: invalid value encountered in less\n",
      "  x[x < stats['whislo']],\n",
      "C:\\Users\\Marek\\Nowy folder\\lib\\site-packages\\matplotlib\\cbook\\__init__.py:1332: RuntimeWarning: invalid value encountered in greater\n",
      "  x[x > stats['whishi']],\n"
     ]
    },
    {
     "data": {
      "image/png": "[encoded data removed]",
      "text/plain": [
       "<Figure size 432x288 with 1 Axes>"
      ]
     },
     "metadata": {
      "needs_background": "light"
     },
     "output_type": "display_data"
    }
   ],
   "source": [
    "plt.boxplot(df_new['hoa'])\n",
    "plt.show()"
   ]
  },
  {
   "cell_type": "code",
   "execution_count": 38,
   "metadata": {},
   "outputs": [
    {
     "name": "stdout",
     "output_type": "stream",
     "text": [
      "1.6077493038739246\n"
     ]
    },
    {
     "data": {
      "text/plain": [
       "count     5882.000000\n",
       "mean      4479.392724\n",
       "std       3601.273801\n",
       "min        420.000000\n",
       "25%       1881.000000\n",
       "50%       3200.000000\n",
       "75%       6000.000000\n",
       "max      45000.000000\n",
       "Name: rent amount, dtype: float64"
      ]
     },
     "execution_count": 38,
     "metadata": {},
     "output_type": "execute_result"
    }
   ],
   "source": [
    "print(df_new['rent amount'].skew())\n",
    "df_new['rent amount'].describe()"
   ]
  },
  {
   "cell_type": "code",
   "execution_count": 39,
   "metadata": {},
   "outputs": [
    {
     "data": {
      "image/png": "[encoded data removed]",
      "text/plain": [
       "<Figure size 432x288 with 1 Axes>"
      ]
     },
     "metadata": {
      "needs_background": "light"
     },
     "output_type": "display_data"
    }
   ],
   "source": [
    "plt.boxplot(df_new['rent amount'])\n",
    "plt.show()"
   ]
  },
  {
   "cell_type": "code",
   "execution_count": 40,
   "metadata": {},
   "outputs": [
    {
     "name": "stdout",
     "output_type": "stream",
     "text": [
      "53.672580123802476\n"
     ]
    },
    {
     "data": {
      "text/plain": [
       "count      5855.000000\n",
       "mean        506.650384\n",
       "std        6330.234201\n",
       "min           0.000000\n",
       "25%          35.000000\n",
       "50%         158.000000\n",
       "75%         473.000000\n",
       "max      366300.000000\n",
       "Name: property tax, dtype: float64"
      ]
     },
     "execution_count": 40,
     "metadata": {},
     "output_type": "execute_result"
    }
   ],
   "source": [
    "print(df_new['property tax'].skew())\n",
    "df_new['property tax'].describe()"
   ]
  },
  {
   "cell_type": "code",
   "execution_count": 41,
   "metadata": {},
   "outputs": [
    {
     "name": "stderr",
     "output_type": "stream",
     "text": [
      "C:\\Users\\Marek\\Nowy folder\\lib\\site-packages\\matplotlib\\cbook\\__init__.py:1316: RuntimeWarning: invalid value encountered in less_equal\n",
      "  wiskhi = x[x <= hival]\n",
      "C:\\Users\\Marek\\Nowy folder\\lib\\site-packages\\matplotlib\\cbook\\__init__.py:1323: RuntimeWarning: invalid value encountered in greater_equal\n",
      "  wisklo = x[x >= loval]\n",
      "C:\\Users\\Marek\\Nowy folder\\lib\\site-packages\\matplotlib\\cbook\\__init__.py:1331: RuntimeWarning: invalid value encountered in less\n",
      "  x[x < stats['whislo']],\n",
      "C:\\Users\\Marek\\Nowy folder\\lib\\site-packages\\matplotlib\\cbook\\__init__.py:1332: RuntimeWarning: invalid value encountered in greater\n",
      "  x[x > stats['whishi']],\n"
     ]
    },
    {
     "data": {
      "image/png": "[encoded data removed]",
      "text/plain": [
       "<Figure size 432x288 with 1 Axes>"
      ]
     },
     "metadata": {
      "needs_background": "light"
     },
     "output_type": "display_data"
    }
   ],
   "source": [
    "plt.boxplot(df_new['property tax'])\n",
    "plt.show()"
   ]
  },
  {
   "cell_type": "code",
   "execution_count": 42,
   "metadata": {},
   "outputs": [
    {
     "data": {
      "text/plain": [
       "<matplotlib.axes._subplots.AxesSubplot at 0x8e84870>"
      ]
     },
     "execution_count": 42,
     "metadata": {},
     "output_type": "execute_result"
    },
    {
     "data": {
      "image/png": "[encoded data removed]",
      "text/plain": [
       "<Figure size 432x288 with 1 Axes>"
      ]
     },
     "metadata": {
      "needs_background": "light"
     },
     "output_type": "display_data"
    }
   ],
   "source": [
    "df_new['property tax'].hist()"
   ]
  },
  {
   "cell_type": "code",
   "execution_count": 43,
   "metadata": {},
   "outputs": [
    {
     "name": "stdout",
     "output_type": "stream",
     "text": [
      "1.6980906844106722\n"
     ]
    },
    {
     "data": {
      "text/plain": [
       "count    5882.000000\n",
       "mean       59.316049\n",
       "std        49.691101\n",
       "min         3.000000\n",
       "25%        23.000000\n",
       "50%        42.000000\n",
       "75%        79.000000\n",
       "max       677.000000\n",
       "Name: fire insurance, dtype: float64"
      ]
     },
     "execution_count": 43,
     "metadata": {},
     "output_type": "execute_result"
    }
   ],
   "source": [
    "print(df_new['fire insurance'].skew())\n",
    "df_new['fire insurance'].describe()"
   ]
  },
  {
   "cell_type": "code",
   "execution_count": 44,
   "metadata": {},
   "outputs": [
    {
     "data": {
      "image/png": "[encoded data removed]",
      "text/plain": [
       "<Figure size 432x288 with 1 Axes>"
      ]
     },
     "metadata": {
      "needs_background": "light"
     },
     "output_type": "display_data"
    }
   ],
   "source": [
    "plt.boxplot(df_new['fire insurance'])\n",
    "plt.show()\n"
   ]
  },
  {
   "cell_type": "code",
   "execution_count": 45,
   "metadata": {},
   "outputs": [
    {
     "data": {
      "text/plain": [
       "<matplotlib.axes._subplots.AxesSubplot at 0x8f14e70>"
      ]
     },
     "execution_count": 45,
     "metadata": {},
     "output_type": "execute_result"
    },
    {
     "data": {
      "image/png": "[encoded data removed]",
      "text/plain": [
       "<Figure size 432x288 with 1 Axes>"
      ]
     },
     "metadata": {
      "needs_background": "light"
     },
     "output_type": "display_data"
    }
   ],
   "source": [
    "df_new['fire insurance'].hist()"
   ]
  },
  {
   "cell_type": "code",
   "execution_count": 46,
   "metadata": {},
   "outputs": [
    {
     "name": "stdout",
     "output_type": "stream",
     "text": [
      "24.8644980130198\n"
     ]
    },
    {
     "data": {
      "text/plain": [
       "count      5882.000000\n",
       "mean       6150.218293\n",
       "std        8868.503973\n",
       "min         660.000000\n",
       "25%        2496.000000\n",
       "50%        4247.000000\n",
       "75%        8216.750000\n",
       "max      372700.000000\n",
       "Name: total, dtype: float64"
      ]
     },
     "execution_count": 46,
     "metadata": {},
     "output_type": "execute_result"
    }
   ],
   "source": [
    "print(df_new['total'].skew())\n",
    "df_new['total'].describe()"
   ]
  },
  {
   "cell_type": "code",
   "execution_count": 47,
   "metadata": {},
   "outputs": [
    {
     "data": {
      "image/png": "[encoded data removed]",
      "text/plain": [
       "<Figure size 432x288 with 1 Axes>"
      ]
     },
     "metadata": {
      "needs_background": "light"
     },
     "output_type": "display_data"
    }
   ],
   "source": [
    "plt.boxplot(df_new['total'])\n",
    "plt.show()"
   ]
  },
  {
   "cell_type": "code",
   "execution_count": 48,
   "metadata": {},
   "outputs": [
    {
     "data": {
      "text/plain": [
       "<matplotlib.axes._subplots.AxesSubplot at 0x8fb3650>"
      ]
     },
     "execution_count": 48,
     "metadata": {},
     "output_type": "execute_result"
    },
    {
     "data": {
      "image/png": "[encoded data removed]",
      "text/plain": [
       "<Figure size 432x288 with 1 Axes>"
      ]
     },
     "metadata": {
      "needs_background": "light"
     },
     "output_type": "display_data"
    }
   ],
   "source": [
    "df_new.total.hist()"
   ]
  },
  {
   "cell_type": "code",
   "execution_count": 49,
   "metadata": {},
   "outputs": [
    {
     "data": {
      "text/plain": [
       "Index(['city', 'area', 'rooms', 'bathroom', 'parking spaces', 'floor',\n",
       "       'animal', 'furniture', 'hoa', 'rent amount', 'property tax',\n",
       "       'fire insurance', 'total'],\n",
       "      dtype='object')"
      ]
     },
     "execution_count": 49,
     "metadata": {},
     "output_type": "execute_result"
    }
   ],
   "source": [
    "df_new.columns"
   ]
  },
  {
   "cell_type": "code",
   "execution_count": 51,
   "metadata": {},
   "outputs": [
    {
     "name": "stdout",
     "output_type": "stream",
     "text": [
      "0.0\n",
      "2613.5\n"
     ]
    }
   ],
   "source": [
    "print(df_new['hoa'].quantile(0.10))\n",
    "print(df_new['hoa'].quantile(0.90))"
   ]
  },
  {
   "cell_type": "code",
   "execution_count": 52,
   "metadata": {},
   "outputs": [
    {
     "name": "stdout",
     "output_type": "stream",
     "text": [
      "0.7149928392771815\n"
     ]
    }
   ],
   "source": [
    "df_new['hoa'] = np.where(df_new['hoa'] <0.0, 0.0,df_new['hoa'])\n",
    "df_new['hoa'] = np.where(df_new['hoa'] >2613.5, 2613.5,df_new['hoa'])\n",
    "print(df_new['hoa'].skew())"
   ]
  },
  {
   "cell_type": "code",
   "execution_count": null,
   "metadata": {},
   "outputs": [],
   "source": [
    "###############"
   ]
  },
  {
   "cell_type": "code",
   "execution_count": 53,
   "metadata": {},
   "outputs": [
    {
     "name": "stdout",
     "output_type": "stream",
     "text": [
      "1220.0\n",
      "10000.0\n"
     ]
    }
   ],
   "source": [
    "print(df_new['rent amount'].quantile(0.10))\n",
    "print(df_new['rent amount'].quantile(0.90))"
   ]
  },
  {
   "cell_type": "code",
   "execution_count": 54,
   "metadata": {},
   "outputs": [
    {
     "name": "stdout",
     "output_type": "stream",
     "text": [
      "0.8663947370790815\n"
     ]
    }
   ],
   "source": [
    "df_new['rent amount'] = np.where(df_new['rent amount'] <1220.0, 1220.0,df_new['rent amount'])\n",
    "df_new['rent amount'] = np.where(df_new['rent amount'] >10000.0, 10000.0,df_new['rent amount'])\n",
    "print(df_new['rent amount'].skew())"
   ]
  },
  {
   "cell_type": "code",
   "execution_count": null,
   "metadata": {},
   "outputs": [],
   "source": [
    "#############"
   ]
  },
  {
   "cell_type": "code",
   "execution_count": 55,
   "metadata": {},
   "outputs": [
    {
     "name": "stdout",
     "output_type": "stream",
     "text": [
      "0.0\n",
      "1042.0\n"
     ]
    }
   ],
   "source": [
    "print(df_new['property tax'].quantile(0.10))\n",
    "print(df_new['property tax'].quantile(0.90))"
   ]
  },
  {
   "cell_type": "code",
   "execution_count": 56,
   "metadata": {},
   "outputs": [
    {
     "name": "stdout",
     "output_type": "stream",
     "text": [
      "1.1002506422322098\n"
     ]
    }
   ],
   "source": [
    "df_new['property tax'] = np.where(df_new['property tax'] <0.0, 0.0,df_new['property tax'])\n",
    "df_new['property tax'] = np.where(df_new['property tax'] >1042.0, 1042.0,df_new['property tax'])\n",
    "print(df_new['property tax'].skew())"
   ]
  },
  {
   "cell_type": "code",
   "execution_count": null,
   "metadata": {},
   "outputs": [],
   "source": [
    "###############"
   ]
  },
  {
   "cell_type": "code",
   "execution_count": 57,
   "metadata": {},
   "outputs": [
    {
     "name": "stdout",
     "output_type": "stream",
     "text": [
      "15.0\n",
      "131.0\n"
     ]
    }
   ],
   "source": [
    "print(df_new['fire insurance'].quantile(0.10))\n",
    "print(df_new['fire insurance'].quantile(0.90))"
   ]
  },
  {
   "cell_type": "code",
   "execution_count": 58,
   "metadata": {},
   "outputs": [
    {
     "name": "stdout",
     "output_type": "stream",
     "text": [
      "0.8275091218833115\n"
     ]
    }
   ],
   "source": [
    "df_new['fire insurance'] = np.where(df_new['fire insurance'] <15.0, 15.0,df_new['fire insurance'])\n",
    "df_new['fire insurance'] = np.where(df_new['fire insurance'] >131.0, 131.0,df_new['fire insurance'])\n",
    "print(df_new['fire insurance'].skew())"
   ]
  },
  {
   "cell_type": "code",
   "execution_count": null,
   "metadata": {},
   "outputs": [],
   "source": [
    "############"
   ]
  },
  {
   "cell_type": "code",
   "execution_count": 59,
   "metadata": {},
   "outputs": [
    {
     "name": "stdout",
     "output_type": "stream",
     "text": [
      "1611.1999999999998\n",
      "13000.0\n"
     ]
    }
   ],
   "source": [
    "print(df_new['total'].quantile(0.10))\n",
    "print(df_new['total'].quantile(0.90))"
   ]
  },
  {
   "cell_type": "code",
   "execution_count": 60,
   "metadata": {},
   "outputs": [
    {
     "name": "stdout",
     "output_type": "stream",
     "text": [
      "0.7711472568065282\n"
     ]
    }
   ],
   "source": [
    "\n",
    "df_new['total'] = np.where(df_new['total'] >13000.0, 13000.0,df_new['total'])\n",
    "print(df_new['total'].skew())"
   ]
  },
  {
   "cell_type": "code",
   "execution_count": null,
   "metadata": {},
   "outputs": [],
   "source": [
    "##########"
   ]
  },
  {
   "cell_type": "code",
   "execution_count": 61,
   "metadata": {},
   "outputs": [
    {
     "name": "stdout",
     "output_type": "stream",
     "text": [
      "41.0\n",
      "309.0\n"
     ]
    }
   ],
   "source": [
    "print(df_new['area'].quantile(0.10))\n",
    "print(df_new['area'].quantile(0.90))"
   ]
  },
  {
   "cell_type": "code",
   "execution_count": 62,
   "metadata": {},
   "outputs": [
    {
     "name": "stdout",
     "output_type": "stream",
     "text": [
      "0.7700902060812498\n"
     ]
    }
   ],
   "source": [
    "df_new['area'] = np.where(df_new['area'] <41.0, 41.0,df_new['area'])\n",
    "df_new['area'] = np.where(df_new['area'] >309.0, 309.0,df_new['area'])\n",
    "print(df_new['area'].skew())"
   ]
  },
  {
   "cell_type": "code",
   "execution_count": 63,
   "metadata": {},
   "outputs": [
    {
     "data": {
      "text/html": [
       "<div>\n",
       "<style scoped>\n",
       "    .dataframe tbody tr th:only-of-type {\n",
       "        vertical-align: middle;\n",
       "    }\n",
       "\n",
       "    .dataframe tbody tr th {\n",
       "        vertical-align: top;\n",
       "    }\n",
       "\n",
       "    .dataframe thead th {\n",
       "        text-align: right;\n",
       "    }\n",
       "</style>\n",
       "<table border=\"1\" class=\"dataframe\">\n",
       "  <thead>\n",
       "    <tr style=\"text-align: right;\">\n",
       "      <th></th>\n",
       "      <th>city</th>\n",
       "      <th>area</th>\n",
       "      <th>rooms</th>\n",
       "      <th>bathroom</th>\n",
       "      <th>parking spaces</th>\n",
       "      <th>floor</th>\n",
       "      <th>animal</th>\n",
       "      <th>furniture</th>\n",
       "      <th>hoa</th>\n",
       "      <th>rent amount</th>\n",
       "      <th>property tax</th>\n",
       "      <th>fire insurance</th>\n",
       "      <th>total</th>\n",
       "    </tr>\n",
       "  </thead>\n",
       "  <tbody>\n",
       "    <tr>\n",
       "      <th>count</th>\n",
       "      <td>5882.000000</td>\n",
       "      <td>5882.000000</td>\n",
       "      <td>5882.000000</td>\n",
       "      <td>5882.000000</td>\n",
       "      <td>5882.000000</td>\n",
       "      <td>5882.000000</td>\n",
       "      <td>5882.000000</td>\n",
       "      <td>5882.000000</td>\n",
       "      <td>5686.000000</td>\n",
       "      <td>5882.000000</td>\n",
       "      <td>5855.000000</td>\n",
       "      <td>5882.000000</td>\n",
       "      <td>5882.000000</td>\n",
       "    </tr>\n",
       "    <tr>\n",
       "      <th>mean</th>\n",
       "      <td>0.865352</td>\n",
       "      <td>135.546073</td>\n",
       "      <td>2.528052</td>\n",
       "      <td>2.377763</td>\n",
       "      <td>1.799728</td>\n",
       "      <td>7.483509</td>\n",
       "      <td>0.229004</td>\n",
       "      <td>0.739374</td>\n",
       "      <td>944.947679</td>\n",
       "      <td>4225.254845</td>\n",
       "      <td>306.063535</td>\n",
       "      <td>55.424685</td>\n",
       "      <td>5580.816729</td>\n",
       "    </tr>\n",
       "    <tr>\n",
       "      <th>std</th>\n",
       "      <td>0.341376</td>\n",
       "      <td>90.148899</td>\n",
       "      <td>1.124299</td>\n",
       "      <td>1.443171</td>\n",
       "      <td>1.615585</td>\n",
       "      <td>5.164871</td>\n",
       "      <td>0.420227</td>\n",
       "      <td>0.439013</td>\n",
       "      <td>866.445714</td>\n",
       "      <td>2874.778243</td>\n",
       "      <td>345.289046</td>\n",
       "      <td>38.536673</td>\n",
       "      <td>3804.999148</td>\n",
       "    </tr>\n",
       "    <tr>\n",
       "      <th>min</th>\n",
       "      <td>0.000000</td>\n",
       "      <td>41.000000</td>\n",
       "      <td>1.000000</td>\n",
       "      <td>1.000000</td>\n",
       "      <td>0.000000</td>\n",
       "      <td>1.000000</td>\n",
       "      <td>0.000000</td>\n",
       "      <td>0.000000</td>\n",
       "      <td>0.000000</td>\n",
       "      <td>1220.000000</td>\n",
       "      <td>0.000000</td>\n",
       "      <td>15.000000</td>\n",
       "      <td>660.000000</td>\n",
       "    </tr>\n",
       "    <tr>\n",
       "      <th>25%</th>\n",
       "      <td>1.000000</td>\n",
       "      <td>60.000000</td>\n",
       "      <td>2.000000</td>\n",
       "      <td>1.000000</td>\n",
       "      <td>1.000000</td>\n",
       "      <td>4.000000</td>\n",
       "      <td>0.000000</td>\n",
       "      <td>0.000000</td>\n",
       "      <td>250.000000</td>\n",
       "      <td>1881.000000</td>\n",
       "      <td>35.000000</td>\n",
       "      <td>23.000000</td>\n",
       "      <td>2496.000000</td>\n",
       "    </tr>\n",
       "    <tr>\n",
       "      <th>50%</th>\n",
       "      <td>1.000000</td>\n",
       "      <td>100.000000</td>\n",
       "      <td>3.000000</td>\n",
       "      <td>2.000000</td>\n",
       "      <td>1.000000</td>\n",
       "      <td>7.000000</td>\n",
       "      <td>0.000000</td>\n",
       "      <td>1.000000</td>\n",
       "      <td>700.000000</td>\n",
       "      <td>3200.000000</td>\n",
       "      <td>158.000000</td>\n",
       "      <td>42.000000</td>\n",
       "      <td>4247.000000</td>\n",
       "    </tr>\n",
       "    <tr>\n",
       "      <th>75%</th>\n",
       "      <td>1.000000</td>\n",
       "      <td>200.000000</td>\n",
       "      <td>3.000000</td>\n",
       "      <td>3.000000</td>\n",
       "      <td>3.000000</td>\n",
       "      <td>9.000000</td>\n",
       "      <td>0.000000</td>\n",
       "      <td>1.000000</td>\n",
       "      <td>1500.000000</td>\n",
       "      <td>6000.000000</td>\n",
       "      <td>473.000000</td>\n",
       "      <td>79.000000</td>\n",
       "      <td>8216.750000</td>\n",
       "    </tr>\n",
       "    <tr>\n",
       "      <th>max</th>\n",
       "      <td>1.000000</td>\n",
       "      <td>309.000000</td>\n",
       "      <td>10.000000</td>\n",
       "      <td>10.000000</td>\n",
       "      <td>12.000000</td>\n",
       "      <td>99.000000</td>\n",
       "      <td>1.000000</td>\n",
       "      <td>1.000000</td>\n",
       "      <td>2613.500000</td>\n",
       "      <td>10000.000000</td>\n",
       "      <td>1042.000000</td>\n",
       "      <td>131.000000</td>\n",
       "      <td>13000.000000</td>\n",
       "    </tr>\n",
       "  </tbody>\n",
       "</table>\n",
       "</div>"
      ],
      "text/plain": [
       "              city         area        rooms     bathroom  parking spaces  \\\n",
       "count  5882.000000  5882.000000  5882.000000  5882.000000     5882.000000   \n",
       "mean      0.865352   135.546073     2.528052     2.377763        1.799728   \n",
       "std       0.341376    90.148899     1.124299     1.443171        1.615585   \n",
       "min       0.000000    41.000000     1.000000     1.000000        0.000000   \n",
       "25%       1.000000    60.000000     2.000000     1.000000        1.000000   \n",
       "50%       1.000000   100.000000     3.000000     2.000000        1.000000   \n",
       "75%       1.000000   200.000000     3.000000     3.000000        3.000000   \n",
       "max       1.000000   309.000000    10.000000    10.000000       12.000000   \n",
       "\n",
       "             floor       animal    furniture          hoa   rent amount  \\\n",
       "count  5882.000000  5882.000000  5882.000000  5686.000000   5882.000000   \n",
       "mean      7.483509     0.229004     0.739374   944.947679   4225.254845   \n",
       "std       5.164871     0.420227     0.439013   866.445714   2874.778243   \n",
       "min       1.000000     0.000000     0.000000     0.000000   1220.000000   \n",
       "25%       4.000000     0.000000     0.000000   250.000000   1881.000000   \n",
       "50%       7.000000     0.000000     1.000000   700.000000   3200.000000   \n",
       "75%       9.000000     0.000000     1.000000  1500.000000   6000.000000   \n",
       "max      99.000000     1.000000     1.000000  2613.500000  10000.000000   \n",
       "\n",
       "       property tax  fire insurance         total  \n",
       "count   5855.000000     5882.000000   5882.000000  \n",
       "mean     306.063535       55.424685   5580.816729  \n",
       "std      345.289046       38.536673   3804.999148  \n",
       "min        0.000000       15.000000    660.000000  \n",
       "25%       35.000000       23.000000   2496.000000  \n",
       "50%      158.000000       42.000000   4247.000000  \n",
       "75%      473.000000       79.000000   8216.750000  \n",
       "max     1042.000000      131.000000  13000.000000  "
      ]
     },
     "execution_count": 63,
     "metadata": {},
     "output_type": "execute_result"
    }
   ],
   "source": [
    "df_new.describe()"
   ]
  },
  {
   "cell_type": "code",
   "execution_count": 64,
   "metadata": {},
   "outputs": [
    {
     "data": {
      "text/plain": [
       "<seaborn.axisgrid.JointGrid at 0x90b3590>"
      ]
     },
     "execution_count": 64,
     "metadata": {},
     "output_type": "execute_result"
    },
    {
     "data": {
      "image/png": "[encoded data removed]",
      "text/plain": [
       "<Figure size 432x432 with 3 Axes>"
      ]
     },
     "metadata": {
      "needs_background": "light"
     },
     "output_type": "display_data"
    }
   ],
   "source": [
    "sns.jointplot(df_new['total'], df_new['area'], kind=\"hex\", color=\"b\")"
   ]
  },
  {
   "cell_type": "code",
   "execution_count": 76,
   "metadata": {},
   "outputs": [
    {
     "data": {
      "text/plain": [
       "<seaborn.axisgrid.JointGrid at 0xe3be930>"
      ]
     },
     "execution_count": 76,
     "metadata": {},
     "output_type": "execute_result"
    },
    {
     "data": {
      "image/png": "[encoded data removed]",
      "text/plain": [
       "<Figure size 432x432 with 3 Axes>"
      ]
     },
     "metadata": {
      "needs_background": "light"
     },
     "output_type": "display_data"
    }
   ],
   "source": [
    "sns.jointplot(df_new['hoa'], df_new['animal'], kind=\"hex\", color=\"g\")"
   ]
  },
  {
   "cell_type": "code",
   "execution_count": 77,
   "metadata": {},
   "outputs": [
    {
     "data": {
      "text/plain": [
       "<seaborn.axisgrid.JointGrid at 0xfa66fd0>"
      ]
     },
     "execution_count": 77,
     "metadata": {},
     "output_type": "execute_result"
    },
    {
     "data": {
      "image/png": "[encoded data removed]",
      "text/plain": [
       "<Figure size 432x432 with 3 Axes>"
      ]
     },
     "metadata": {
      "needs_background": "light"
     },
     "output_type": "display_data"
    }
   ],
   "source": [
    "sns.jointplot(df_new['area'], df_new['bathroom'], kind=\"hex\", color=\"g\")"
   ]
  }
 ],
 "metadata": {
  "kernelspec": {
   "display_name": "Python 3",
   "language": "python",
   "name": "python3"
  },
  "language_info": {
   "codemirror_mode": {
    "name": "ipython",
    "version": 3
   },
   "file_extension": ".py",
   "mimetype": "text/x-python",
   "name": "python",
   "nbconvert_exporter": "python",
   "pygments_lexer": "ipython3",
   "version": "3.7.6"
  }
 },
 "nbformat": 4,
 "nbformat_minor": 4
}
